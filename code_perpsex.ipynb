{
 "cells": [
  {
   "cell_type": "code",
   "execution_count": 450,
   "id": "ee5597a3-551b-4dbd-9817-9e76e7d62c28",
   "metadata": {},
   "outputs": [],
   "source": [
    "import pandas as pd\n",
    "import numpy as np\n",
    "import matplotlib.pyplot as plt\n",
    "import seaborn as sns\n",
    "from sklearn.preprocessing import StandardScaler\n",
    "from sklearn.model_selection import train_test_split\n",
    "from sklearn.metrics import confusion_matrix\n",
    "\n",
    "import torch\n",
    "import torch.nn as nn\n",
    "import torch.nn.functional as F\n",
    "from torch.utils.data import TensorDataset, DataLoader, random_split\n",
    "from tqdm import tqdm"
   ]
  },
  {
   "cell_type": "code",
   "execution_count": 451,
   "id": "df3498d6-8c3d-4c27-8b1a-646bcf96cca0",
   "metadata": {},
   "outputs": [
    {
     "name": "stdout",
     "output_type": "stream",
     "text": [
      "GPU is not available.\n"
     ]
    }
   ],
   "source": [
    "# Check if GPU is available\n",
    "if torch.cuda.is_available():\n",
    "    print(\"GPU is available!\")\n",
    "    print(f\"GPU Name: {torch.cuda.get_device_name(0)}\")\n",
    "else:\n",
    "    print(\"GPU is not available.\")\n",
    "\n",
    "device = torch.device(\"cuda\" if torch.cuda.is_available() else \"cpu\")"
   ]
  },
  {
   "cell_type": "markdown",
   "id": "3852e977-6f97-4fc9-a0b6-dbe5f4e7a765",
   "metadata": {},
   "source": [
    "## 1. Importing NYPD arrest data from catalog.data.gov"
   ]
  },
  {
   "cell_type": "code",
   "execution_count": 452,
   "id": "00796fb2-0a57-466e-8e68-e030d69910a9",
   "metadata": {},
   "outputs": [],
   "source": [
    "dats = pd.read_csv(\"NYPD_Arrest_Data.csv\")"
   ]
  },
  {
   "cell_type": "markdown",
   "id": "a1955f8a-b9d0-4446-bcb9-81c1c8873bc5",
   "metadata": {},
   "source": [
    "#### Looking at the number of entries (63,621), number of features (19), and summary statistics"
   ]
  },
  {
   "cell_type": "code",
   "execution_count": 453,
   "id": "4b8af669-fd29-43ff-bcf9-acb3941f7d8f",
   "metadata": {},
   "outputs": [
    {
     "data": {
      "text/html": [
       "<div>\n",
       "<style scoped>\n",
       "    .dataframe tbody tr th:only-of-type {\n",
       "        vertical-align: middle;\n",
       "    }\n",
       "\n",
       "    .dataframe tbody tr th {\n",
       "        vertical-align: top;\n",
       "    }\n",
       "\n",
       "    .dataframe thead th {\n",
       "        text-align: right;\n",
       "    }\n",
       "</style>\n",
       "<table border=\"1\" class=\"dataframe\">\n",
       "  <thead>\n",
       "    <tr style=\"text-align: right;\">\n",
       "      <th></th>\n",
       "      <th>ARREST_KEY</th>\n",
       "      <th>ARREST_DATE</th>\n",
       "      <th>PD_CD</th>\n",
       "      <th>PD_DESC</th>\n",
       "      <th>KY_CD</th>\n",
       "      <th>OFNS_DESC</th>\n",
       "      <th>LAW_CODE</th>\n",
       "      <th>LAW_CAT_CD</th>\n",
       "      <th>ARREST_BORO</th>\n",
       "      <th>ARREST_PRECINCT</th>\n",
       "      <th>JURISDICTION_CODE</th>\n",
       "      <th>AGE_GROUP</th>\n",
       "      <th>PERP_SEX</th>\n",
       "      <th>PERP_RACE</th>\n",
       "      <th>X_COORD_CD</th>\n",
       "      <th>Y_COORD_CD</th>\n",
       "      <th>Latitude</th>\n",
       "      <th>Longitude</th>\n",
       "      <th>New Georeferenced Column</th>\n",
       "    </tr>\n",
       "  </thead>\n",
       "  <tbody>\n",
       "    <tr>\n",
       "      <th>0</th>\n",
       "      <td>281240883</td>\n",
       "      <td>1/28/2024</td>\n",
       "      <td>105.0</td>\n",
       "      <td>STRANGULATION 1ST</td>\n",
       "      <td>106.0</td>\n",
       "      <td>FELONY ASSAULT</td>\n",
       "      <td>PL 1211200</td>\n",
       "      <td>F</td>\n",
       "      <td>Q</td>\n",
       "      <td>105</td>\n",
       "      <td>0</td>\n",
       "      <td>25-44</td>\n",
       "      <td>M</td>\n",
       "      <td>WHITE</td>\n",
       "      <td>1057545</td>\n",
       "      <td>207911</td>\n",
       "      <td>40.737043</td>\n",
       "      <td>-73.735514</td>\n",
       "      <td>POINT (-73.735514 40.737043)</td>\n",
       "    </tr>\n",
       "    <tr>\n",
       "      <th>1</th>\n",
       "      <td>282884120</td>\n",
       "      <td>2/27/2024</td>\n",
       "      <td>263.0</td>\n",
       "      <td>ARSON 2,3,4</td>\n",
       "      <td>114.0</td>\n",
       "      <td>ARSON</td>\n",
       "      <td>PL 1501001</td>\n",
       "      <td>F</td>\n",
       "      <td>Q</td>\n",
       "      <td>107</td>\n",
       "      <td>71</td>\n",
       "      <td>45-64</td>\n",
       "      <td>M</td>\n",
       "      <td>WHITE</td>\n",
       "      <td>1037489</td>\n",
       "      <td>206343</td>\n",
       "      <td>40.732881</td>\n",
       "      <td>-73.807899</td>\n",
       "      <td>POINT (-73.807899 40.732881)</td>\n",
       "    </tr>\n",
       "    <tr>\n",
       "      <th>2</th>\n",
       "      <td>283137868</td>\n",
       "      <td>3/3/2024</td>\n",
       "      <td>109.0</td>\n",
       "      <td>ASSAULT 2,1,UNCLASSIFIED</td>\n",
       "      <td>106.0</td>\n",
       "      <td>FELONY ASSAULT</td>\n",
       "      <td>PL 1200502</td>\n",
       "      <td>F</td>\n",
       "      <td>B</td>\n",
       "      <td>48</td>\n",
       "      <td>0</td>\n",
       "      <td>25-44</td>\n",
       "      <td>M</td>\n",
       "      <td>BLACK</td>\n",
       "      <td>1013900</td>\n",
       "      <td>250835</td>\n",
       "      <td>40.855109</td>\n",
       "      <td>-73.892818</td>\n",
       "      <td>POINT (-73.892818 40.855109)</td>\n",
       "    </tr>\n",
       "    <tr>\n",
       "      <th>3</th>\n",
       "      <td>287001362</td>\n",
       "      <td>5/16/2024</td>\n",
       "      <td>109.0</td>\n",
       "      <td>ASSAULT 2,1,UNCLASSIFIED</td>\n",
       "      <td>106.0</td>\n",
       "      <td>FELONY ASSAULT</td>\n",
       "      <td>PL 1200512</td>\n",
       "      <td>F</td>\n",
       "      <td>S</td>\n",
       "      <td>121</td>\n",
       "      <td>0</td>\n",
       "      <td>25-44</td>\n",
       "      <td>M</td>\n",
       "      <td>WHITE</td>\n",
       "      <td>938928</td>\n",
       "      <td>168468</td>\n",
       "      <td>40.628967</td>\n",
       "      <td>-74.163275</td>\n",
       "      <td>POINT (-74.163275 40.628967)</td>\n",
       "    </tr>\n",
       "    <tr>\n",
       "      <th>4</th>\n",
       "      <td>287829614</td>\n",
       "      <td>6/2/2024</td>\n",
       "      <td>105.0</td>\n",
       "      <td>STRANGULATION 1ST</td>\n",
       "      <td>106.0</td>\n",
       "      <td>FELONY ASSAULT</td>\n",
       "      <td>PL 1211200</td>\n",
       "      <td>F</td>\n",
       "      <td>Q</td>\n",
       "      <td>100</td>\n",
       "      <td>0</td>\n",
       "      <td>25-44</td>\n",
       "      <td>M</td>\n",
       "      <td>BLACK</td>\n",
       "      <td>1039777</td>\n",
       "      <td>155013</td>\n",
       "      <td>40.591980</td>\n",
       "      <td>-73.800066</td>\n",
       "      <td>POINT (-73.800066 40.59198)</td>\n",
       "    </tr>\n",
       "  </tbody>\n",
       "</table>\n",
       "</div>"
      ],
      "text/plain": [
       "   ARREST_KEY ARREST_DATE  PD_CD                   PD_DESC  KY_CD  \\\n",
       "0   281240883   1/28/2024  105.0         STRANGULATION 1ST  106.0   \n",
       "1   282884120   2/27/2024  263.0               ARSON 2,3,4  114.0   \n",
       "2   283137868    3/3/2024  109.0  ASSAULT 2,1,UNCLASSIFIED  106.0   \n",
       "3   287001362   5/16/2024  109.0  ASSAULT 2,1,UNCLASSIFIED  106.0   \n",
       "4   287829614    6/2/2024  105.0         STRANGULATION 1ST  106.0   \n",
       "\n",
       "        OFNS_DESC    LAW_CODE LAW_CAT_CD ARREST_BORO  ARREST_PRECINCT  \\\n",
       "0  FELONY ASSAULT  PL 1211200          F           Q              105   \n",
       "1           ARSON  PL 1501001          F           Q              107   \n",
       "2  FELONY ASSAULT  PL 1200502          F           B               48   \n",
       "3  FELONY ASSAULT  PL 1200512          F           S              121   \n",
       "4  FELONY ASSAULT  PL 1211200          F           Q              100   \n",
       "\n",
       "   JURISDICTION_CODE AGE_GROUP PERP_SEX PERP_RACE  X_COORD_CD  Y_COORD_CD  \\\n",
       "0                  0     25-44        M     WHITE     1057545      207911   \n",
       "1                 71     45-64        M     WHITE     1037489      206343   \n",
       "2                  0     25-44        M     BLACK     1013900      250835   \n",
       "3                  0     25-44        M     WHITE      938928      168468   \n",
       "4                  0     25-44        M     BLACK     1039777      155013   \n",
       "\n",
       "    Latitude  Longitude      New Georeferenced Column  \n",
       "0  40.737043 -73.735514  POINT (-73.735514 40.737043)  \n",
       "1  40.732881 -73.807899  POINT (-73.807899 40.732881)  \n",
       "2  40.855109 -73.892818  POINT (-73.892818 40.855109)  \n",
       "3  40.628967 -74.163275  POINT (-74.163275 40.628967)  \n",
       "4  40.591980 -73.800066   POINT (-73.800066 40.59198)  "
      ]
     },
     "execution_count": 453,
     "metadata": {},
     "output_type": "execute_result"
    }
   ],
   "source": [
    "dats.head()"
   ]
  },
  {
   "cell_type": "code",
   "execution_count": 454,
   "id": "fa319b42-1c51-4f74-a138-d24ec2da0b7f",
   "metadata": {},
   "outputs": [
    {
     "data": {
      "text/html": [
       "<div>\n",
       "<style scoped>\n",
       "    .dataframe tbody tr th:only-of-type {\n",
       "        vertical-align: middle;\n",
       "    }\n",
       "\n",
       "    .dataframe tbody tr th {\n",
       "        vertical-align: top;\n",
       "    }\n",
       "\n",
       "    .dataframe thead th {\n",
       "        text-align: right;\n",
       "    }\n",
       "</style>\n",
       "<table border=\"1\" class=\"dataframe\">\n",
       "  <thead>\n",
       "    <tr style=\"text-align: right;\">\n",
       "      <th></th>\n",
       "      <th>ARREST_KEY</th>\n",
       "      <th>PD_CD</th>\n",
       "      <th>KY_CD</th>\n",
       "      <th>ARREST_PRECINCT</th>\n",
       "      <th>JURISDICTION_CODE</th>\n",
       "      <th>X_COORD_CD</th>\n",
       "      <th>Y_COORD_CD</th>\n",
       "      <th>Latitude</th>\n",
       "      <th>Longitude</th>\n",
       "    </tr>\n",
       "  </thead>\n",
       "  <tbody>\n",
       "    <tr>\n",
       "      <th>count</th>\n",
       "      <td>1.954470e+05</td>\n",
       "      <td>195441.000000</td>\n",
       "      <td>195421.000000</td>\n",
       "      <td>195447.000000</td>\n",
       "      <td>195447.000000</td>\n",
       "      <td>1.954470e+05</td>\n",
       "      <td>195447.000000</td>\n",
       "      <td>195447.000000</td>\n",
       "      <td>195447.000000</td>\n",
       "    </tr>\n",
       "    <tr>\n",
       "      <th>mean</th>\n",
       "      <td>2.870581e+08</td>\n",
       "      <td>430.651910</td>\n",
       "      <td>252.006115</td>\n",
       "      <td>63.563959</td>\n",
       "      <td>0.920991</td>\n",
       "      <td>1.005677e+06</td>\n",
       "      <td>207829.553199</td>\n",
       "      <td>40.736659</td>\n",
       "      <td>-73.921863</td>\n",
       "    </tr>\n",
       "    <tr>\n",
       "      <th>std</th>\n",
       "      <td>4.114243e+06</td>\n",
       "      <td>272.001338</td>\n",
       "      <td>145.826553</td>\n",
       "      <td>34.948675</td>\n",
       "      <td>6.988188</td>\n",
       "      <td>2.145326e+04</td>\n",
       "      <td>29518.704169</td>\n",
       "      <td>0.153439</td>\n",
       "      <td>0.248536</td>\n",
       "    </tr>\n",
       "    <tr>\n",
       "      <th>min</th>\n",
       "      <td>2.797635e+08</td>\n",
       "      <td>2.000000</td>\n",
       "      <td>101.000000</td>\n",
       "      <td>1.000000</td>\n",
       "      <td>0.000000</td>\n",
       "      <td>0.000000e+00</td>\n",
       "      <td>0.000000</td>\n",
       "      <td>0.000000</td>\n",
       "      <td>-74.252711</td>\n",
       "    </tr>\n",
       "    <tr>\n",
       "      <th>25%</th>\n",
       "      <td>2.835069e+08</td>\n",
       "      <td>117.000000</td>\n",
       "      <td>113.000000</td>\n",
       "      <td>40.000000</td>\n",
       "      <td>0.000000</td>\n",
       "      <td>9.907960e+05</td>\n",
       "      <td>185773.000000</td>\n",
       "      <td>40.676499</td>\n",
       "      <td>-73.976436</td>\n",
       "    </tr>\n",
       "    <tr>\n",
       "      <th>50%</th>\n",
       "      <td>2.871294e+08</td>\n",
       "      <td>397.000000</td>\n",
       "      <td>340.000000</td>\n",
       "      <td>63.000000</td>\n",
       "      <td>0.000000</td>\n",
       "      <td>1.005312e+06</td>\n",
       "      <td>206901.000000</td>\n",
       "      <td>40.734496</td>\n",
       "      <td>-73.924029</td>\n",
       "    </tr>\n",
       "    <tr>\n",
       "      <th>75%</th>\n",
       "      <td>2.906267e+08</td>\n",
       "      <td>705.000000</td>\n",
       "      <td>344.000000</td>\n",
       "      <td>101.000000</td>\n",
       "      <td>0.000000</td>\n",
       "      <td>1.017933e+06</td>\n",
       "      <td>235604.000000</td>\n",
       "      <td>40.813333</td>\n",
       "      <td>-73.878333</td>\n",
       "    </tr>\n",
       "    <tr>\n",
       "      <th>max</th>\n",
       "      <td>2.941500e+08</td>\n",
       "      <td>997.000000</td>\n",
       "      <td>995.000000</td>\n",
       "      <td>123.000000</td>\n",
       "      <td>97.000000</td>\n",
       "      <td>1.067185e+06</td>\n",
       "      <td>271282.000000</td>\n",
       "      <td>40.911236</td>\n",
       "      <td>0.000000</td>\n",
       "    </tr>\n",
       "  </tbody>\n",
       "</table>\n",
       "</div>"
      ],
      "text/plain": [
       "         ARREST_KEY          PD_CD          KY_CD  ARREST_PRECINCT  \\\n",
       "count  1.954470e+05  195441.000000  195421.000000    195447.000000   \n",
       "mean   2.870581e+08     430.651910     252.006115        63.563959   \n",
       "std    4.114243e+06     272.001338     145.826553        34.948675   \n",
       "min    2.797635e+08       2.000000     101.000000         1.000000   \n",
       "25%    2.835069e+08     117.000000     113.000000        40.000000   \n",
       "50%    2.871294e+08     397.000000     340.000000        63.000000   \n",
       "75%    2.906267e+08     705.000000     344.000000       101.000000   \n",
       "max    2.941500e+08     997.000000     995.000000       123.000000   \n",
       "\n",
       "       JURISDICTION_CODE    X_COORD_CD     Y_COORD_CD       Latitude  \\\n",
       "count      195447.000000  1.954470e+05  195447.000000  195447.000000   \n",
       "mean            0.920991  1.005677e+06  207829.553199      40.736659   \n",
       "std             6.988188  2.145326e+04   29518.704169       0.153439   \n",
       "min             0.000000  0.000000e+00       0.000000       0.000000   \n",
       "25%             0.000000  9.907960e+05  185773.000000      40.676499   \n",
       "50%             0.000000  1.005312e+06  206901.000000      40.734496   \n",
       "75%             0.000000  1.017933e+06  235604.000000      40.813333   \n",
       "max            97.000000  1.067185e+06  271282.000000      40.911236   \n",
       "\n",
       "           Longitude  \n",
       "count  195447.000000  \n",
       "mean      -73.921863  \n",
       "std         0.248536  \n",
       "min       -74.252711  \n",
       "25%       -73.976436  \n",
       "50%       -73.924029  \n",
       "75%       -73.878333  \n",
       "max         0.000000  "
      ]
     },
     "execution_count": 454,
     "metadata": {},
     "output_type": "execute_result"
    }
   ],
   "source": [
    "dats.describe()"
   ]
  },
  {
   "cell_type": "code",
   "execution_count": 455,
   "id": "4c54fe0e-a532-495f-8394-86f1b64db031",
   "metadata": {},
   "outputs": [
    {
     "data": {
      "text/plain": [
       "ARREST_KEY                  195447\n",
       "ARREST_DATE                 195447\n",
       "PD_CD                       195441\n",
       "PD_DESC                     195447\n",
       "KY_CD                       195421\n",
       "OFNS_DESC                   195447\n",
       "LAW_CODE                    195447\n",
       "LAW_CAT_CD                  194338\n",
       "ARREST_BORO                 195447\n",
       "ARREST_PRECINCT             195447\n",
       "JURISDICTION_CODE           195447\n",
       "AGE_GROUP                   195447\n",
       "PERP_SEX                    195447\n",
       "PERP_RACE                   195447\n",
       "X_COORD_CD                  195447\n",
       "Y_COORD_CD                  195447\n",
       "Latitude                    195447\n",
       "Longitude                   195447\n",
       "New Georeferenced Column    195447\n",
       "dtype: int64"
      ]
     },
     "execution_count": 455,
     "metadata": {},
     "output_type": "execute_result"
    }
   ],
   "source": [
    "dats.count()"
   ]
  },
  {
   "cell_type": "markdown",
   "id": "2bfa6247-4d8a-417b-82cf-7322e01d1e9b",
   "metadata": {},
   "source": [
    "#### The \"New Georeferenced Column\" is redundant, and adds no new information. The very same location information is already present in the \"Latitude\" and \"Longitude\" features. Therefore, we will drop it."
   ]
  },
  {
   "cell_type": "code",
   "execution_count": 456,
   "id": "839017de-8e67-49cb-abc5-9ea01634a0e0",
   "metadata": {},
   "outputs": [],
   "source": [
    "dats = dats.drop(\"New Georeferenced Column\", axis = 1)"
   ]
  },
  {
   "cell_type": "markdown",
   "id": "6137f79f-0872-41cc-9615-68b0d0357d32",
   "metadata": {},
   "source": [
    "#### Additionally, the \"ARREST_KEY\" is a randomly generated persistent ID (primary key) for each arrest, and is therefore not related with any of the other features. Therefore, it will be removed."
   ]
  },
  {
   "cell_type": "code",
   "execution_count": 457,
   "id": "1ae4e25f-41c8-4079-b0f9-d168abd5dce3",
   "metadata": {},
   "outputs": [],
   "source": [
    "dats = dats.drop(\"ARREST_KEY\", axis = 1)"
   ]
  },
  {
   "cell_type": "markdown",
   "id": "f75b4685-cd1f-426f-8451-7c324aba09d0",
   "metadata": {},
   "source": [
    "## 2. Handling missing values"
   ]
  },
  {
   "cell_type": "code",
   "execution_count": 458,
   "id": "5b23d234-bb6d-447e-975b-843b004e403b",
   "metadata": {},
   "outputs": [
    {
     "data": {
      "text/plain": [
       "ARREST_DATE             0\n",
       "PD_CD                   6\n",
       "PD_DESC                 0\n",
       "KY_CD                  26\n",
       "OFNS_DESC               0\n",
       "LAW_CODE                0\n",
       "LAW_CAT_CD           1109\n",
       "ARREST_BORO             0\n",
       "ARREST_PRECINCT         0\n",
       "JURISDICTION_CODE       0\n",
       "AGE_GROUP               0\n",
       "PERP_SEX                0\n",
       "PERP_RACE               0\n",
       "X_COORD_CD              0\n",
       "Y_COORD_CD              0\n",
       "Latitude                0\n",
       "Longitude               0\n",
       "dtype: int64"
      ]
     },
     "execution_count": 458,
     "metadata": {},
     "output_type": "execute_result"
    }
   ],
   "source": [
    "dats.isnull().sum()"
   ]
  },
  {
   "cell_type": "markdown",
   "id": "c6da9826-7f73-4c03-baff-d32e88d292e8",
   "metadata": {},
   "source": [
    "#### Because we have such a large dataset (63k entries), we will drop the roughly 400 entries with missing values."
   ]
  },
  {
   "cell_type": "code",
   "execution_count": 459,
   "id": "c3541636-72a7-4888-8d8e-bd2e063e93de",
   "metadata": {},
   "outputs": [],
   "source": [
    "dats = dats.dropna()"
   ]
  },
  {
   "cell_type": "code",
   "execution_count": 460,
   "id": "c23de327-a5d7-432b-a3e2-9acfcc78400b",
   "metadata": {},
   "outputs": [
    {
     "data": {
      "text/plain": [
       "ARREST_DATE          0\n",
       "PD_CD                0\n",
       "PD_DESC              0\n",
       "KY_CD                0\n",
       "OFNS_DESC            0\n",
       "LAW_CODE             0\n",
       "LAW_CAT_CD           0\n",
       "ARREST_BORO          0\n",
       "ARREST_PRECINCT      0\n",
       "JURISDICTION_CODE    0\n",
       "AGE_GROUP            0\n",
       "PERP_SEX             0\n",
       "PERP_RACE            0\n",
       "X_COORD_CD           0\n",
       "Y_COORD_CD           0\n",
       "Latitude             0\n",
       "Longitude            0\n",
       "dtype: int64"
      ]
     },
     "execution_count": 460,
     "metadata": {},
     "output_type": "execute_result"
    }
   ],
   "source": [
    "dats.isnull().sum()"
   ]
  },
  {
   "cell_type": "markdown",
   "id": "86d4f27c-2268-4b64-937c-a583c20fabed",
   "metadata": {},
   "source": [
    "## 3. Checking for mismatched string formats in the 8 categorical variables"
   ]
  },
  {
   "cell_type": "code",
   "execution_count": 461,
   "id": "d6f6b583-c9a7-45fd-ab6f-095cfd447142",
   "metadata": {},
   "outputs": [
    {
     "name": "stdout",
     "output_type": "stream",
     "text": [
      "PD_DESC\n",
      "ASSAULT 3                         21266\n",
      "LARCENY,PETIT FROM OPEN AREAS,    19904\n",
      "ASSAULT 2,1,UNCLASSIFIED          11902\n",
      "TRAFFIC,UNCLASSIFIED MISDEMEAN     9740\n",
      "ROBBERY,OPEN AREA UNCLASSIFIED     9110\n",
      "                                  ...  \n",
      "FAIL TO STOP ON SIGNAL                1\n",
      "PRIVACY,OFFENSES AGAINST,UNCLA        1\n",
      "ARSON 1                               1\n",
      "PEDESTRIAN / UNCLASSIDIED             1\n",
      "SOLICITATION 3,2,1, CRIMINAL          1\n",
      "Name: count, Length: 243, dtype: int64\n"
     ]
    }
   ],
   "source": [
    "pd_desc = dats[\"PD_DESC\"].value_counts()\n",
    "print(pd_desc)"
   ]
  },
  {
   "cell_type": "code",
   "execution_count": 462,
   "id": "3d94d996-d657-4ba8-a487-3ef9402d75cf",
   "metadata": {},
   "outputs": [
    {
     "data": {
      "text/plain": [
       "OFNS_DESC\n",
       "ASSAULT 3 & RELATED OFFENSES        28892\n",
       "PETIT LARCENY                       19904\n",
       "FELONY ASSAULT                      17219\n",
       "DANGEROUS DRUGS                     13731\n",
       "MISCELLANEOUS PENAL LAW             12433\n",
       "VEHICLE AND TRAFFIC LAWS            10149\n",
       "ROBBERY                              9156\n",
       "GRAND LARCENY                        9099\n",
       "CRIMINAL MISCHIEF & RELATED OF       8955\n",
       "OTHER OFFENSES RELATED TO THEFT      8641\n",
       "DANGEROUS WEAPONS                    8287\n",
       "OFFENSES AGAINST PUBLIC ADMINI       6705\n",
       "BURGLARY                             4777\n",
       "SEX CRIMES                           4612\n",
       "FORGERY                              3739\n",
       "OFFENSES INVOLVING FRAUD             3599\n",
       "OFF. AGNST PUB ORD SENSBLTY &        3284\n",
       "POSSESSION OF STOLEN PROPERTY        3097\n",
       "OTHER STATE LAWS                     2761\n",
       "CRIMINAL TRESPASS                    2034\n",
       "INTOXICATED & IMPAIRED DRIVING       1971\n",
       "OTHER TRAFFIC INFRACTION             1781\n",
       "GRAND LARCENY OF MOTOR VEHICLE       1642\n",
       "OFFENSES AGAINST THE PERSON          1305\n",
       "MURDER & NON-NEGL. MANSLAUGHTE       1190\n",
       "FRAUDS                                743\n",
       "RAPE                                  571\n",
       "BURGLAR'S TOOLS                       550\n",
       "UNAUTHORIZED USE OF A VEHICLE         437\n",
       "DISORDERLY CONDUCT                    364\n",
       "OTHER STATE LAWS (NON PENAL LAW)      341\n",
       "CANNABIS RELATED OFFENSES             317\n",
       "GAMBLING                              257\n",
       "PROSTITUTION & RELATED OFFENSES       246\n",
       "OFFENSES AGAINST PUBLIC SAFETY        230\n",
       "INTOXICATED/IMPAIRED DRIVING          199\n",
       "THEFT-FRAUD                           155\n",
       "ADMINISTRATIVE CODE                   131\n",
       "ALCOHOLIC BEVERAGE CONTROL LAW        122\n",
       "ARSON                                  93\n",
       "KIDNAPPING & RELATED OFFENSES          93\n",
       "JOSTLING                               88\n",
       "HARRASSMENT 2                          81\n",
       "CHILD ABANDONMENT/NON SUPPORT 1        65\n",
       "OFFENSES RELATED TO CHILDREN           65\n",
       "HOMICIDE-NEGLIGENT,UNCLASSIFIE         51\n",
       "MOVING INFRACTIONS                     43\n",
       "FRAUDULENT ACCOSTING                   43\n",
       "ANTICIPATORY OFFENSES                  33\n",
       "ESCAPE 3                                9\n",
       "DISRUPTION OF A RELIGIOUS SERV          6\n",
       "HOMICIDE-NEGLIGENT-VEHICLE              6\n",
       "LOITERING/GAMBLING (CARDS, DIC          3\n",
       "LOITERING                               2\n",
       "ADMINISTRATIVE CODES                    2\n",
       "PARKING OFFENSES                        2\n",
       "FORTUNE TELLING                         1\n",
       "Name: count, dtype: int64"
      ]
     },
     "execution_count": 462,
     "metadata": {},
     "output_type": "execute_result"
    }
   ],
   "source": [
    "dats[\"OFNS_DESC\"].value_counts()"
   ]
  },
  {
   "cell_type": "code",
   "execution_count": 463,
   "id": "ce801691-8bdb-4f30-b18e-bc0894c0c9c2",
   "metadata": {},
   "outputs": [
    {
     "data": {
      "text/plain": [
       "LAW_CODE\n",
       "PL 1200001    20812\n",
       "PL 1552500    19904\n",
       "PL 1651503     8118\n",
       "VTL0511001     6483\n",
       "PL 215510B     6386\n",
       "              ...  \n",
       "VTL0511A3A        1\n",
       "PL 2252001        1\n",
       "PL 130661C        1\n",
       "PL 1908302        1\n",
       "PL 2404501        1\n",
       "Name: count, Length: 1036, dtype: int64"
      ]
     },
     "execution_count": 463,
     "metadata": {},
     "output_type": "execute_result"
    }
   ],
   "source": [
    "dats[\"LAW_CODE\"].value_counts()"
   ]
  },
  {
   "cell_type": "code",
   "execution_count": 464,
   "id": "dd7ed2ab-c785-47e9-a72b-075220d45282",
   "metadata": {},
   "outputs": [
    {
     "data": {
      "text/plain": [
       "LAW_CAT_CD\n",
       "M    109326\n",
       "F     82522\n",
       "V      1762\n",
       "9       535\n",
       "I       167\n",
       "Name: count, dtype: int64"
      ]
     },
     "execution_count": 464,
     "metadata": {},
     "output_type": "execute_result"
    }
   ],
   "source": [
    "dats[\"LAW_CAT_CD\"].value_counts()"
   ]
  },
  {
   "cell_type": "code",
   "execution_count": 465,
   "id": "2f585a8e-2071-4dcd-8fe4-e120cafeded2",
   "metadata": {},
   "outputs": [
    {
     "data": {
      "text/plain": [
       "ARREST_BORO\n",
       "K    53810\n",
       "M    45689\n",
       "B    43663\n",
       "Q    42834\n",
       "S     8316\n",
       "Name: count, dtype: int64"
      ]
     },
     "execution_count": 465,
     "metadata": {},
     "output_type": "execute_result"
    }
   ],
   "source": [
    "dats[\"ARREST_BORO\"].value_counts()"
   ]
  },
  {
   "cell_type": "code",
   "execution_count": 466,
   "id": "8bf73b39-7c46-4ea6-aec6-4dff17240c8d",
   "metadata": {},
   "outputs": [
    {
     "data": {
      "text/plain": [
       "AGE_GROUP\n",
       "25-44    112844\n",
       "45-64     37791\n",
       "18-24     32979\n",
       "<18        7243\n",
       "65+        3455\n",
       "Name: count, dtype: int64"
      ]
     },
     "execution_count": 466,
     "metadata": {},
     "output_type": "execute_result"
    }
   ],
   "source": [
    "dats[\"AGE_GROUP\"].value_counts()"
   ]
  },
  {
   "cell_type": "code",
   "execution_count": 467,
   "id": "166c059b-c46e-4029-bba5-21ab63cff956",
   "metadata": {},
   "outputs": [
    {
     "data": {
      "text/plain": [
       "PERP_SEX\n",
       "M    159357\n",
       "F     34955\n",
       "Name: count, dtype: int64"
      ]
     },
     "execution_count": 467,
     "metadata": {},
     "output_type": "execute_result"
    }
   ],
   "source": [
    "dats[\"PERP_SEX\"].value_counts()"
   ]
  },
  {
   "cell_type": "code",
   "execution_count": 468,
   "id": "cee9db4b-a703-46ec-b421-fa3e454aab6b",
   "metadata": {},
   "outputs": [
    {
     "data": {
      "text/plain": [
       "PERP_RACE\n",
       "BLACK                             90677\n",
       "WHITE HISPANIC                    51967\n",
       "BLACK HISPANIC                    19833\n",
       "WHITE                             19510\n",
       "ASIAN / PACIFIC ISLANDER          10956\n",
       "UNKNOWN                             762\n",
       "AMERICAN INDIAN/ALASKAN NATIVE      607\n",
       "Name: count, dtype: int64"
      ]
     },
     "execution_count": 468,
     "metadata": {},
     "output_type": "execute_result"
    }
   ],
   "source": [
    "dats[\"PERP_RACE\"].value_counts()"
   ]
  },
  {
   "cell_type": "markdown",
   "id": "ee7288aa-7842-44f9-84a3-d1887d1cc72c",
   "metadata": {},
   "source": [
    "#### There do not appear to be any mismatched strings. However, this is difficult to tell for the PD_DESC and LAW_CODE columns because they have so many unique values."
   ]
  },
  {
   "cell_type": "markdown",
   "id": "7c768347-d483-4e83-a3d2-af1ac5015d79",
   "metadata": {},
   "source": [
    "## 4. Checking for outliers in the 8 numeric variables"
   ]
  },
  {
   "cell_type": "markdown",
   "id": "a7a75e66-fbfa-4c62-8523-6f3a82e4da46",
   "metadata": {},
   "source": [
    "#### The goal here is to catch the extreme outliers. Therefore, we will only be looking at values that are greater or lower than 5 standard deviations away from the mean."
   ]
  },
  {
   "cell_type": "code",
   "execution_count": 469,
   "id": "a3c3a18a-f1ba-4a50-a7b3-ebc9254734ac",
   "metadata": {},
   "outputs": [],
   "source": [
    "def detect_outliers(df, column_name, threshold = 5):\n",
    "    mean = df[column_name].mean()\n",
    "    std = df[column_name].std()\n",
    "    \n",
    "    lower_bound = mean - threshold * std\n",
    "    upper_bound = mean + threshold * std\n",
    "\n",
    "    values = []\n",
    "    indices = []\n",
    "    for ind, val in df[column_name].items():\n",
    "        if val <= lower_bound or val >= upper_bound:\n",
    "            values.append(val)\n",
    "            indices.append(ind)\n",
    "    if values != []:\n",
    "        print(values)\n",
    "    return indices"
   ]
  },
  {
   "cell_type": "code",
   "execution_count": 470,
   "id": "98f54405-e9fb-4bad-9c99-57757ed5eb63",
   "metadata": {},
   "outputs": [
    {
     "data": {
      "text/plain": [
       "[]"
      ]
     },
     "execution_count": 470,
     "metadata": {},
     "output_type": "execute_result"
    }
   ],
   "source": [
    "detect_outliers(dats, \"PD_CD\")"
   ]
  },
  {
   "cell_type": "code",
   "execution_count": 471,
   "id": "c92a1fc5-12be-4c3d-b11d-dd823ef0d8f5",
   "metadata": {},
   "outputs": [
    {
     "data": {
      "text/plain": [
       "[]"
      ]
     },
     "execution_count": 471,
     "metadata": {},
     "output_type": "execute_result"
    }
   ],
   "source": [
    "detect_outliers(dats, \"KY_CD\")"
   ]
  },
  {
   "cell_type": "code",
   "execution_count": 472,
   "id": "abc3c619-3c5b-44f9-8db6-ca1d6d6d8612",
   "metadata": {},
   "outputs": [
    {
     "data": {
      "text/plain": [
       "[]"
      ]
     },
     "execution_count": 472,
     "metadata": {},
     "output_type": "execute_result"
    }
   ],
   "source": [
    "detect_outliers(dats, \"ARREST_PRECINCT\")"
   ]
  },
  {
   "cell_type": "code",
   "execution_count": 473,
   "id": "76396531-cef9-4e2e-adf3-d92922dc6d10",
   "metadata": {
    "scrolled": true
   },
   "outputs": [
    {
     "name": "stdout",
     "output_type": "stream",
     "text": [
      "[71, 51, 52, 72, 73, 87, 97, 51, 51, 97, 72, 97, 71, 97, 72, 97, 97, 73, 87, 87, 87, 72, 72, 73, 72, 72, 97, 73, 51, 72, 97, 71, 71, 72, 97, 97, 97, 71, 73, 97, 73, 72, 72, 72, 87, 72, 97, 72, 97, 52, 73, 87, 73, 73, 72, 87, 97, 72, 73, 72, 72, 73, 71, 97, 73, 72, 97, 71, 71, 87, 72, 72, 73, 97, 97, 97, 69, 72, 72, 72, 97, 72, 97, 79, 97, 97, 52, 71, 72, 72, 72, 72, 73, 71, 52, 72, 72, 97, 72, 97, 97, 87, 87, 51, 87, 72, 73, 51, 72, 72, 51, 71, 73, 51, 73, 72, 87, 72, 72, 51, 72, 97, 71, 72, 72, 97, 72, 73, 51, 97, 97, 73, 72, 72, 72, 97, 97, 97, 51, 97, 72, 87, 72, 97, 97, 73, 97, 51, 51, 97, 87, 71, 72, 73, 73, 73, 73, 72, 97, 87, 69, 72, 97, 72, 97, 73, 87, 73, 97, 72, 97, 72, 73, 85, 72, 72, 97, 97, 51, 97, 87, 51, 87, 87, 73, 97, 87, 72, 97, 72, 97, 97, 72, 97, 97, 72, 74, 72, 72, 97, 87, 73, 72, 72, 73, 87, 72, 72, 97, 97, 72, 72, 73, 97, 97, 97, 72, 51, 73, 72, 72, 51, 97, 97, 87, 51, 73, 71, 72, 72, 71, 71, 97, 87, 73, 72, 97, 87, 87, 72, 73, 51, 71, 51, 97, 72, 87, 52, 72, 97, 72, 51, 97, 71, 72, 87, 73, 97, 73, 97, 72, 87, 71, 97, 51, 72, 72, 73, 71, 87, 97, 51, 73, 72, 97, 97, 97, 72, 87, 87, 71, 87, 73, 51, 73, 87, 52, 71, 72, 51, 97, 72, 87, 51, 71, 72, 97, 52, 73, 73, 88, 87, 51, 97, 72, 97, 72, 73, 72, 87, 51, 97, 72, 72, 97, 72, 73, 97, 97, 71, 72, 73, 97, 73, 72, 72, 97, 51, 72, 97, 87, 73, 97, 97, 87, 87, 73, 72, 73, 72, 97, 72, 97, 51, 87, 71, 72, 87, 97, 72, 71, 97, 73, 73, 72, 97, 97, 72, 72, 72, 87, 71, 72, 97, 87, 97, 72, 51, 72, 72, 52, 97, 51, 51, 73, 72, 72, 85, 72, 97, 71, 73, 71, 71, 73, 73, 97, 72, 73, 51, 87, 52, 51, 87, 87, 97, 51, 72, 97, 73, 73, 97, 97, 51, 97, 97, 97, 97, 72, 72, 97, 72, 97, 87, 73, 97, 51, 73, 97, 72, 72, 72, 73, 85, 72, 73, 71, 97, 72, 85, 97, 73, 51, 97, 87, 73, 73, 73, 72, 73, 73, 72, 97, 72, 97, 97, 72, 97, 87, 72, 73, 51, 87, 97, 87, 51, 51, 51, 73, 97, 73, 71, 88, 72, 97, 73, 73, 73, 87, 72, 97, 72, 97, 97, 71, 97, 97, 87, 97, 88, 72, 87, 72, 71, 72, 74, 72, 87, 72, 97, 71, 73, 72, 97, 97, 72, 97, 88, 71, 73, 87, 51, 73, 87, 72, 72, 73, 52, 71, 97, 73, 72, 51, 97, 73, 97, 72, 97, 73, 72, 51, 73, 52, 87, 87, 87, 97, 73, 51, 72, 73, 97, 72, 51, 73, 97, 51, 51, 71, 87, 73, 72, 72, 73, 73, 97, 73, 72, 97, 51, 73, 73, 97, 87, 72, 72, 72, 73, 87, 87, 72, 97, 51, 51, 87, 73, 88, 87, 72, 72, 73, 97, 97, 87, 97, 97, 72, 72, 73, 72, 51, 87, 51, 72, 51, 72, 73, 73, 51, 97, 97, 71, 71, 72, 87, 72, 72, 97, 76, 97, 97, 71, 97, 97, 97, 73, 72, 73, 87, 97, 97, 97, 87, 72, 73, 97, 71, 97, 71, 97, 97, 72, 97, 72, 72, 73, 72, 97, 52, 72, 97, 97, 72, 97, 73, 73, 73, 72, 72, 87, 73, 97, 72, 72, 51, 87, 72, 97, 52, 73, 97, 71, 87, 88, 87, 73, 73, 97, 72, 72, 97, 97, 73, 72, 87, 97, 97, 97, 87, 73, 71, 97, 72, 71, 72, 71, 72, 72, 72, 87, 52, 87, 73, 87, 87, 73, 73, 72, 97, 52, 72, 87, 72, 72, 51, 97, 73, 87, 71, 87, 51, 73, 73, 73, 72, 71, 87, 79, 72, 51, 73, 52, 52, 97, 51, 73, 72, 87, 73, 52, 72, 72, 72, 97, 72, 51, 52, 71, 97, 97, 97, 88, 71, 72, 87, 73, 97, 97, 88, 73, 97, 72, 97, 51, 97, 72, 72, 97, 97, 72, 87, 97, 72, 97, 71, 51, 97, 72, 73, 72, 87, 73, 51, 69, 97, 97, 73, 72, 97, 51, 71, 79, 72, 71, 73, 72, 51, 72, 73, 72, 73, 97, 72, 87, 88, 97, 71, 51, 97, 72, 97, 87, 72, 72, 97, 71, 73, 73, 97, 51, 73, 73, 97, 72, 72, 51, 97, 87, 72, 73, 51, 73, 87, 72, 51, 71, 72, 72, 52, 51, 73, 87, 97, 72, 72, 52, 72, 72, 72, 72, 97, 72, 73, 87, 72, 52, 73, 72, 97, 72, 97, 97, 73, 73, 73, 72, 72, 73, 71, 97, 97, 97, 97, 97, 72, 51, 97, 51, 73, 51, 87, 72, 51, 52, 52, 73, 97, 51, 97, 51, 97, 97, 88, 72, 72, 72, 72, 97, 72, 71, 51, 97, 71, 72, 51, 87, 72, 87, 72, 73, 88, 72, 72, 73, 51, 51, 73, 97, 72, 73, 73, 97, 97, 73, 51, 72, 51, 73, 72, 73, 72, 51, 73, 72, 97, 97, 72, 72, 52, 72, 97, 97, 97, 97, 87, 73, 51, 51, 72, 97, 51, 72, 73, 51, 97, 97, 73, 73, 71, 51, 72, 72, 72, 73, 97, 97, 97, 97, 73, 72, 51, 51, 71, 72, 97, 72, 72, 72, 73, 72, 51, 73, 73, 71, 72, 72, 72, 97, 73, 72, 72, 51, 97, 97, 72, 69, 72, 97, 73, 51, 73, 72, 73, 72, 85, 73, 97, 73, 97, 97, 72, 52, 72, 51, 51, 73, 51, 97, 97, 97, 97, 97, 73, 73, 97, 72, 72, 97, 97, 73, 73, 73, 97, 73, 73, 97, 97, 72, 72, 97, 72, 51, 97, 51, 72, 51, 51, 97, 51, 72, 73, 97, 72, 73, 72, 72, 72, 97, 69, 73, 72, 97, 72, 72, 73, 72, 97, 97, 73, 72, 72, 72, 72, 97, 51, 71, 72, 73, 51, 72, 51, 73, 97, 73, 97, 73, 73, 73, 51, 97, 97, 52, 72, 73, 72, 51, 72, 71, 72, 71, 51, 72, 72, 72, 73, 72, 72, 73, 71, 72, 72, 51, 73, 72, 71, 72, 97, 73, 72, 97, 73, 97, 72, 97, 73, 97, 97, 51, 97, 73, 51, 97, 97, 97, 72, 73, 51, 72, 72, 97, 73, 72, 97, 71, 72, 73, 51, 72, 97, 51, 72, 97, 51, 72, 72, 97, 72, 72, 97, 72, 72, 97, 72, 72, 97, 71, 72, 51, 97, 52, 97, 79, 72, 72, 97, 73, 71, 73, 97, 69, 51, 72, 72, 72, 79, 97, 69, 73, 72, 71, 72, 71, 97, 73, 71, 72, 72, 97, 73, 72, 97, 72, 97, 72, 73, 73, 97, 87, 72, 72, 73, 97, 72, 97, 72, 97, 72, 71, 73, 97, 97, 73, 73, 88, 97, 73, 51, 72, 51, 72, 51, 97, 97, 97, 73, 73, 72, 97, 97, 51, 51, 97, 73, 73, 51, 73, 72, 72, 72, 97, 97, 73, 51, 72, 72, 97, 73, 72, 72, 72, 73, 72, 73, 72, 51, 72, 73, 72, 97, 51, 72, 73, 73, 73, 97, 72, 72, 72, 97, 97, 97, 97, 72, 72, 72, 73, 97, 97, 72, 71, 97, 72, 73, 72, 97, 72, 97, 72, 97, 97, 51, 73, 72, 87, 97, 73, 97, 51, 73, 97, 97, 72, 97, 73, 72, 51, 97, 72, 97, 72, 71, 97, 97, 97, 72, 72, 72, 72, 97, 51, 71, 52, 72, 73, 73, 51, 97, 72, 97, 51, 72, 72, 51, 97, 72, 97, 71, 71, 97, 51, 97, 51, 73, 72, 97, 97, 73, 72, 51, 72, 69, 87, 71, 71, 73, 73, 72, 51, 51, 51, 73, 72, 72, 97, 73, 72, 52, 72, 72, 97, 73, 73, 72, 69, 72, 97, 72, 73, 73, 97, 97, 97, 73, 52, 73, 72, 73, 72, 72, 73, 97, 69, 72, 72, 51, 72, 73, 51, 97, 73, 72, 97, 72, 73, 73, 73, 72, 72, 72, 72, 97, 73, 87, 72, 72, 72, 97, 51, 72, 73, 72, 97, 72, 73, 51, 71, 52, 72, 72, 73, 73, 73, 51, 73, 73, 72, 52, 72, 72, 73, 97, 72, 97, 51, 97, 97, 72, 97, 72, 97, 97, 73, 72, 97, 51, 72, 72, 72, 73, 97, 51, 72, 72, 71, 71, 97, 87, 97, 51, 72, 72, 73, 73, 73, 72, 71, 97, 88]\n"
     ]
    },
    {
     "data": {
      "text/plain": [
       "[1,\n",
       " 35,\n",
       " 86,\n",
       " 199,\n",
       " 275,\n",
       " 341,\n",
       " 999,\n",
       " 1051,\n",
       " 1122,\n",
       " 1261,\n",
       " 1704,\n",
       " 1935,\n",
       " 2037,\n",
       " 2156,\n",
       " 2331,\n",
       " 2344,\n",
       " 2352,\n",
       " 2398,\n",
       " 2492,\n",
       " 2585,\n",
       " 2685,\n",
       " 2805,\n",
       " 3100,\n",
       " 3157,\n",
       " 3296,\n",
       " 3774,\n",
       " 3829,\n",
       " 4572,\n",
       " 4619,\n",
       " 4635,\n",
       " 4719,\n",
       " 4844,\n",
       " 4861,\n",
       " 5001,\n",
       " 5218,\n",
       " 5346,\n",
       " 5425,\n",
       " 5851,\n",
       " 5977,\n",
       " 6256,\n",
       " 6445,\n",
       " 6561,\n",
       " 6685,\n",
       " 6696,\n",
       " 6716,\n",
       " 7141,\n",
       " 7151,\n",
       " 7256,\n",
       " 7258,\n",
       " 7456,\n",
       " 7606,\n",
       " 7633,\n",
       " 7672,\n",
       " 7768,\n",
       " 7800,\n",
       " 7830,\n",
       " 7960,\n",
       " 8118,\n",
       " 8160,\n",
       " 8187,\n",
       " 8243,\n",
       " 8297,\n",
       " 8336,\n",
       " 8583,\n",
       " 8707,\n",
       " 8718,\n",
       " 8976,\n",
       " 8985,\n",
       " 9343,\n",
       " 9569,\n",
       " 9769,\n",
       " 9869,\n",
       " 10067,\n",
       " 10086,\n",
       " 10128,\n",
       " 10167,\n",
       " 10202,\n",
       " 10444,\n",
       " 10478,\n",
       " 10500,\n",
       " 10960,\n",
       " 10980,\n",
       " 11165,\n",
       " 11402,\n",
       " 11599,\n",
       " 11694,\n",
       " 11706,\n",
       " 12349,\n",
       " 12510,\n",
       " 12596,\n",
       " 12636,\n",
       " 12915,\n",
       " 13020,\n",
       " 13039,\n",
       " 13313,\n",
       " 13319,\n",
       " 13323,\n",
       " 13547,\n",
       " 13642,\n",
       " 13859,\n",
       " 14253,\n",
       " 14288,\n",
       " 14334,\n",
       " 14508,\n",
       " 14593,\n",
       " 14604,\n",
       " 14687,\n",
       " 14779,\n",
       " 14828,\n",
       " 14872,\n",
       " 14897,\n",
       " 15255,\n",
       " 15274,\n",
       " 15276,\n",
       " 15308,\n",
       " 15436,\n",
       " 15506,\n",
       " 15583,\n",
       " 15674,\n",
       " 16008,\n",
       " 16228,\n",
       " 16575,\n",
       " 16595,\n",
       " 16645,\n",
       " 16654,\n",
       " 16801,\n",
       " 16835,\n",
       " 16843,\n",
       " 17074,\n",
       " 17390,\n",
       " 17603,\n",
       " 17672,\n",
       " 17690,\n",
       " 17753,\n",
       " 17814,\n",
       " 18062,\n",
       " 18425,\n",
       " 18598,\n",
       " 18809,\n",
       " 18867,\n",
       " 19016,\n",
       " 19036,\n",
       " 19300,\n",
       " 19372,\n",
       " 19788,\n",
       " 19971,\n",
       " 20054,\n",
       " 20235,\n",
       " 20325,\n",
       " 20384,\n",
       " 20533,\n",
       " 20576,\n",
       " 20681,\n",
       " 20756,\n",
       " 21082,\n",
       " 21244,\n",
       " 21486,\n",
       " 21496,\n",
       " 21505,\n",
       " 21534,\n",
       " 21648,\n",
       " 21784,\n",
       " 21802,\n",
       " 21850,\n",
       " 21860,\n",
       " 21961,\n",
       " 22196,\n",
       " 22218,\n",
       " 22465,\n",
       " 22703,\n",
       " 22776,\n",
       " 22864,\n",
       " 23103,\n",
       " 23104,\n",
       " 23275,\n",
       " 23928,\n",
       " 23967,\n",
       " 24010,\n",
       " 24200,\n",
       " 24238,\n",
       " 24250,\n",
       " 24317,\n",
       " 24741,\n",
       " 24745,\n",
       " 24796,\n",
       " 24820,\n",
       " 24895,\n",
       " 24954,\n",
       " 24966,\n",
       " 24986,\n",
       " 25037,\n",
       " 25268,\n",
       " 25548,\n",
       " 25572,\n",
       " 25651,\n",
       " 25695,\n",
       " 25868,\n",
       " 26214,\n",
       " 26291,\n",
       " 26532,\n",
       " 26550,\n",
       " 26561,\n",
       " 26709,\n",
       " 26822,\n",
       " 26933,\n",
       " 27221,\n",
       " 27222,\n",
       " 27258,\n",
       " 28373,\n",
       " 28431,\n",
       " 28515,\n",
       " 28572,\n",
       " 28673,\n",
       " 28734,\n",
       " 28750,\n",
       " 28848,\n",
       " 28891,\n",
       " 29037,\n",
       " 29066,\n",
       " 29112,\n",
       " 29136,\n",
       " 29417,\n",
       " 29530,\n",
       " 29869,\n",
       " 29964,\n",
       " 29990,\n",
       " 30104,\n",
       " 30128,\n",
       " 30413,\n",
       " 30467,\n",
       " 30470,\n",
       " 30816,\n",
       " 30869,\n",
       " 30932,\n",
       " 31355,\n",
       " 31501,\n",
       " 31674,\n",
       " 31963,\n",
       " 32089,\n",
       " 32355,\n",
       " 32402,\n",
       " 32581,\n",
       " 32647,\n",
       " 32675,\n",
       " 32954,\n",
       " 33032,\n",
       " 33307,\n",
       " 33454,\n",
       " 33654,\n",
       " 33797,\n",
       " 33826,\n",
       " 33834,\n",
       " 33843,\n",
       " 34064,\n",
       " 34078,\n",
       " 34459,\n",
       " 34499,\n",
       " 34577,\n",
       " 36003,\n",
       " 36258,\n",
       " 36291,\n",
       " 36565,\n",
       " 36578,\n",
       " 36665,\n",
       " 36705,\n",
       " 36714,\n",
       " 36738,\n",
       " 37172,\n",
       " 37243,\n",
       " 37306,\n",
       " 37357,\n",
       " 37519,\n",
       " 37559,\n",
       " 37650,\n",
       " 37748,\n",
       " 37751,\n",
       " 37849,\n",
       " 37950,\n",
       " 38027,\n",
       " 38087,\n",
       " 38118,\n",
       " 38363,\n",
       " 38450,\n",
       " 38462,\n",
       " 38482,\n",
       " 38874,\n",
       " 38972,\n",
       " 38989,\n",
       " 39025,\n",
       " 39066,\n",
       " 39073,\n",
       " 39167,\n",
       " 39382,\n",
       " 39996,\n",
       " 40026,\n",
       " 40512,\n",
       " 40572,\n",
       " 41057,\n",
       " 41514,\n",
       " 41533,\n",
       " 41539,\n",
       " 41707,\n",
       " 41880,\n",
       " 41955,\n",
       " 42178,\n",
       " 42243,\n",
       " 42351,\n",
       " 42406,\n",
       " 42465,\n",
       " 42511,\n",
       " 42574,\n",
       " 42726,\n",
       " 42738,\n",
       " 42790,\n",
       " 42874,\n",
       " 42955,\n",
       " 43327,\n",
       " 43340,\n",
       " 43395,\n",
       " 43725,\n",
       " 43729,\n",
       " 43810,\n",
       " 43834,\n",
       " 43884,\n",
       " 44004,\n",
       " 44122,\n",
       " 44199,\n",
       " 44376,\n",
       " 44553,\n",
       " 44692,\n",
       " 44744,\n",
       " 44799,\n",
       " 45161,\n",
       " 45554,\n",
       " 45635,\n",
       " 45680,\n",
       " 45747,\n",
       " 45959,\n",
       " 46421,\n",
       " 46628,\n",
       " 46671,\n",
       " 46793,\n",
       " 46893,\n",
       " 47279,\n",
       " 47303,\n",
       " 47389,\n",
       " 47499,\n",
       " 47531,\n",
       " 47543,\n",
       " 47550,\n",
       " 47693,\n",
       " 47697,\n",
       " 47778,\n",
       " 47935,\n",
       " 48135,\n",
       " 48146,\n",
       " 48178,\n",
       " 48220,\n",
       " 48398,\n",
       " 48499,\n",
       " 48539,\n",
       " 48821,\n",
       " 48824,\n",
       " 48855,\n",
       " 49023,\n",
       " 49056,\n",
       " 49071,\n",
       " 49082,\n",
       " 49353,\n",
       " 49457,\n",
       " 49481,\n",
       " 49524,\n",
       " 49685,\n",
       " 49709,\n",
       " 49840,\n",
       " 49906,\n",
       " 50246,\n",
       " 50300,\n",
       " 50486,\n",
       " 50701,\n",
       " 50865,\n",
       " 51072,\n",
       " 51154,\n",
       " 51219,\n",
       " 51229,\n",
       " 51230,\n",
       " 51263,\n",
       " 51407,\n",
       " 51442,\n",
       " 51444,\n",
       " 51851,\n",
       " 52186,\n",
       " 52322,\n",
       " 52357,\n",
       " 52610,\n",
       " 52818,\n",
       " 52852,\n",
       " 52973,\n",
       " 53209,\n",
       " 53323,\n",
       " 53409,\n",
       " 53880,\n",
       " 53908,\n",
       " 53979,\n",
       " 54098,\n",
       " 54343,\n",
       " 54487,\n",
       " 54587,\n",
       " 54868,\n",
       " 54876,\n",
       " 54918,\n",
       " 54954,\n",
       " 55140,\n",
       " 55295,\n",
       " 55323,\n",
       " 55324,\n",
       " 55405,\n",
       " 55472,\n",
       " 55669,\n",
       " 55917,\n",
       " 55981,\n",
       " 55992,\n",
       " 55997,\n",
       " 56129,\n",
       " 56147,\n",
       " 56230,\n",
       " 56270,\n",
       " 56455,\n",
       " 56983,\n",
       " 56996,\n",
       " 57049,\n",
       " 57162,\n",
       " 57366,\n",
       " 57437,\n",
       " 57731,\n",
       " 57785,\n",
       " 57804,\n",
       " 57840,\n",
       " 57990,\n",
       " 58060,\n",
       " 58107,\n",
       " 58108,\n",
       " 58209,\n",
       " 58247,\n",
       " 58282,\n",
       " 58476,\n",
       " 58649,\n",
       " 58983,\n",
       " 59173,\n",
       " 59210,\n",
       " 59414,\n",
       " 59516,\n",
       " 59622,\n",
       " 59731,\n",
       " 59739,\n",
       " 60105,\n",
       " 60286,\n",
       " 60346,\n",
       " 60348,\n",
       " 60660,\n",
       " 61092,\n",
       " 61185,\n",
       " 61193,\n",
       " 61363,\n",
       " 61487,\n",
       " 61561,\n",
       " 61789,\n",
       " 61933,\n",
       " 61939,\n",
       " 62063,\n",
       " 62126,\n",
       " 62277,\n",
       " 62304,\n",
       " 62351,\n",
       " 62502,\n",
       " 62608,\n",
       " 62716,\n",
       " 62918,\n",
       " 62954,\n",
       " 62960,\n",
       " 63039,\n",
       " 63159,\n",
       " 63591,\n",
       " 63660,\n",
       " 63684,\n",
       " 63749,\n",
       " 63882,\n",
       " 63910,\n",
       " 64022,\n",
       " 64036,\n",
       " 64100,\n",
       " 64336,\n",
       " 64345,\n",
       " 64447,\n",
       " 64476,\n",
       " 64658,\n",
       " 64716,\n",
       " 65077,\n",
       " 65453,\n",
       " 65609,\n",
       " 65688,\n",
       " 65706,\n",
       " 65823,\n",
       " 65829,\n",
       " 65939,\n",
       " 66033,\n",
       " 66149,\n",
       " 66370,\n",
       " 66837,\n",
       " 67083,\n",
       " 67115,\n",
       " 67127,\n",
       " 67210,\n",
       " 67234,\n",
       " 67257,\n",
       " 67403,\n",
       " 67690,\n",
       " 67737,\n",
       " 67846,\n",
       " 67865,\n",
       " 67911,\n",
       " 67996,\n",
       " 68083,\n",
       " 68125,\n",
       " 68355,\n",
       " 68368,\n",
       " 68528,\n",
       " 68665,\n",
       " 68678,\n",
       " 68831,\n",
       " 68847,\n",
       " 69056,\n",
       " 69451,\n",
       " 69645,\n",
       " 69723,\n",
       " 69825,\n",
       " 69948,\n",
       " 70012,\n",
       " 70023,\n",
       " 70340,\n",
       " 70485,\n",
       " 70615,\n",
       " 70899,\n",
       " 70978,\n",
       " 71194,\n",
       " 71314,\n",
       " 71478,\n",
       " 71517,\n",
       " 71598,\n",
       " 71848,\n",
       " 71891,\n",
       " 72293,\n",
       " 72395,\n",
       " 72469,\n",
       " 72557,\n",
       " 72640,\n",
       " 72718,\n",
       " 72783,\n",
       " 72829,\n",
       " 72878,\n",
       " 72999,\n",
       " 73012,\n",
       " 73073,\n",
       " 73075,\n",
       " 73153,\n",
       " 73452,\n",
       " 73502,\n",
       " 73610,\n",
       " 74011,\n",
       " 74092,\n",
       " 74309,\n",
       " 74371,\n",
       " 74399,\n",
       " 74929,\n",
       " 75205,\n",
       " 75594,\n",
       " 75638,\n",
       " 75745,\n",
       " 75773,\n",
       " 75860,\n",
       " 75878,\n",
       " 76593,\n",
       " 76889,\n",
       " 76936,\n",
       " 77017,\n",
       " 77071,\n",
       " 77112,\n",
       " 77119,\n",
       " 77140,\n",
       " 77496,\n",
       " 77619,\n",
       " 77662,\n",
       " 77773,\n",
       " 77937,\n",
       " 77998,\n",
       " 78018,\n",
       " 78176,\n",
       " 78284,\n",
       " 78313,\n",
       " 78344,\n",
       " 78388,\n",
       " 78561,\n",
       " 78662,\n",
       " 78678,\n",
       " 78749,\n",
       " 78785,\n",
       " 79192,\n",
       " 79454,\n",
       " 79574,\n",
       " 79768,\n",
       " 79826,\n",
       " 79938,\n",
       " 79949,\n",
       " 80570,\n",
       " 80709,\n",
       " 80830,\n",
       " 80864,\n",
       " 80878,\n",
       " 81064,\n",
       " 81081,\n",
       " 81152,\n",
       " 81238,\n",
       " 81296,\n",
       " 81506,\n",
       " 81552,\n",
       " 81584,\n",
       " 81699,\n",
       " 81802,\n",
       " 81861,\n",
       " 81906,\n",
       " 82257,\n",
       " 82350,\n",
       " 82374,\n",
       " 82389,\n",
       " 82499,\n",
       " 82640,\n",
       " 82705,\n",
       " 82786,\n",
       " 82829,\n",
       " 83025,\n",
       " 83093,\n",
       " 83356,\n",
       " 83395,\n",
       " 83493,\n",
       " 83642,\n",
       " 83677,\n",
       " 83782,\n",
       " 83982,\n",
       " 84032,\n",
       " 84166,\n",
       " 84257,\n",
       " 84431,\n",
       " 84572,\n",
       " 84690,\n",
       " 84772,\n",
       " 85077,\n",
       " 85245,\n",
       " 85378,\n",
       " 85494,\n",
       " 85669,\n",
       " 85794,\n",
       " 85843,\n",
       " 86029,\n",
       " 86162,\n",
       " 86274,\n",
       " 86343,\n",
       " 86364,\n",
       " 86518,\n",
       " 87004,\n",
       " 87073,\n",
       " 87102,\n",
       " 87109,\n",
       " 87116,\n",
       " 87153,\n",
       " 87251,\n",
       " 87272,\n",
       " 87824,\n",
       " 87871,\n",
       " 87967,\n",
       " 88076,\n",
       " 88115,\n",
       " 88170,\n",
       " 88268,\n",
       " 88642,\n",
       " 88786,\n",
       " 88898,\n",
       " 89054,\n",
       " 89274,\n",
       " 89312,\n",
       " 89378,\n",
       " 89466,\n",
       " 89684,\n",
       " 89909,\n",
       " 90003,\n",
       " 90089,\n",
       " 90151,\n",
       " 90389,\n",
       " 90521,\n",
       " 90548,\n",
       " 90574,\n",
       " 90635,\n",
       " 90644,\n",
       " 90721,\n",
       " 90886,\n",
       " 90955,\n",
       " 91277,\n",
       " 91501,\n",
       " 91520,\n",
       " 91527,\n",
       " 91723,\n",
       " 91870,\n",
       " 91909,\n",
       " 91982,\n",
       " 92074,\n",
       " 92175,\n",
       " 92197,\n",
       " 92315,\n",
       " 92397,\n",
       " 92414,\n",
       " 92515,\n",
       " 92631,\n",
       " 92753,\n",
       " 92779,\n",
       " 92799,\n",
       " 92920,\n",
       " 93027,\n",
       " 93065,\n",
       " 93106,\n",
       " 93119,\n",
       " 93192,\n",
       " 93262,\n",
       " 93294,\n",
       " 93301,\n",
       " 93412,\n",
       " 93421,\n",
       " 93504,\n",
       " 93649,\n",
       " 93852,\n",
       " 94174,\n",
       " 94175,\n",
       " 94293,\n",
       " 94630,\n",
       " 94855,\n",
       " 94856,\n",
       " 94920,\n",
       " 95248,\n",
       " 95430,\n",
       " 95524,\n",
       " 95702,\n",
       " 95740,\n",
       " 95809,\n",
       " 95894,\n",
       " 96238,\n",
       " 96511,\n",
       " 96741,\n",
       " 96825,\n",
       " 97306,\n",
       " 97333,\n",
       " 97394,\n",
       " 97425,\n",
       " 97463,\n",
       " 97561,\n",
       " 97598,\n",
       " 97876,\n",
       " 97939,\n",
       " 98075,\n",
       " 98162,\n",
       " 98488,\n",
       " 98540,\n",
       " 98625,\n",
       " 98668,\n",
       " 98820,\n",
       " 98858,\n",
       " 98957,\n",
       " 99205,\n",
       " 99361,\n",
       " 99390,\n",
       " 100009,\n",
       " 100149,\n",
       " 100188,\n",
       " 100209,\n",
       " 100220,\n",
       " 100315,\n",
       " 100323,\n",
       " 100328,\n",
       " 100394,\n",
       " 100415,\n",
       " 100439,\n",
       " 100620,\n",
       " 100632,\n",
       " 100698,\n",
       " 100724,\n",
       " 101092,\n",
       " 101135,\n",
       " 101639,\n",
       " 101695,\n",
       " 101766,\n",
       " 102466,\n",
       " 102549,\n",
       " 102677,\n",
       " 102774,\n",
       " 102920,\n",
       " 103095,\n",
       " 103161,\n",
       " 103292,\n",
       " 103582,\n",
       " 104392,\n",
       " 104520,\n",
       " 104658,\n",
       " 104706,\n",
       " 104803,\n",
       " 104874,\n",
       " 105310,\n",
       " 105383,\n",
       " 105464,\n",
       " 105604,\n",
       " 105733,\n",
       " 106236,\n",
       " 106527,\n",
       " 106591,\n",
       " 106602,\n",
       " 106904,\n",
       " 106925,\n",
       " 107376,\n",
       " 107382,\n",
       " 107632,\n",
       " 107689,\n",
       " 107696,\n",
       " 107963,\n",
       " 108039,\n",
       " 108060,\n",
       " 108150,\n",
       " 108328,\n",
       " 108472,\n",
       " 108538,\n",
       " 108578,\n",
       " 108641,\n",
       " 108784,\n",
       " 109117,\n",
       " 109227,\n",
       " 109299,\n",
       " 109375,\n",
       " 109458,\n",
       " 109491,\n",
       " 109526,\n",
       " 109776,\n",
       " 110118,\n",
       " 110149,\n",
       " 110371,\n",
       " 110441,\n",
       " 110482,\n",
       " 110484,\n",
       " 110595,\n",
       " 110776,\n",
       " 110815,\n",
       " 110837,\n",
       " 111072,\n",
       " 111159,\n",
       " 111205,\n",
       " 111232,\n",
       " 111432,\n",
       " 111838,\n",
       " 112197,\n",
       " 112256,\n",
       " 112294,\n",
       " 112461,\n",
       " 112691,\n",
       " 112776,\n",
       " 113176,\n",
       " 113238,\n",
       " 113320,\n",
       " 113686,\n",
       " 113716,\n",
       " 113840,\n",
       " 113856,\n",
       " 114073,\n",
       " 114397,\n",
       " 114405,\n",
       " 114430,\n",
       " 114438,\n",
       " 114523,\n",
       " 114686,\n",
       " 114710,\n",
       " 114715,\n",
       " 114869,\n",
       " 114924,\n",
       " 114965,\n",
       " 115143,\n",
       " 115232,\n",
       " 115369,\n",
       " 115492,\n",
       " 115567,\n",
       " 115666,\n",
       " 115671,\n",
       " 115802,\n",
       " 115821,\n",
       " 115842,\n",
       " 116624,\n",
       " 117140,\n",
       " 117246,\n",
       " 117417,\n",
       " 117424,\n",
       " 117509,\n",
       " 117606,\n",
       " 117645,\n",
       " 117691,\n",
       " 117835,\n",
       " 118072,\n",
       " 118087,\n",
       " 118111,\n",
       " 118283,\n",
       " 118369,\n",
       " 118597,\n",
       " 118887,\n",
       " 119215,\n",
       " 119279,\n",
       " 119387,\n",
       " 119514,\n",
       " 119557,\n",
       " 119612,\n",
       " 119836,\n",
       " 119860,\n",
       " 119948,\n",
       " 120015,\n",
       " 120084,\n",
       " 120101,\n",
       " 120143,\n",
       " 120341,\n",
       " 120381,\n",
       " 121041,\n",
       " 121082,\n",
       " 121178,\n",
       " 121276,\n",
       " 121715,\n",
       " 121851,\n",
       " 121900,\n",
       " 122054,\n",
       " 122154,\n",
       " 122158,\n",
       " 122203,\n",
       " 122630,\n",
       " 122658,\n",
       " 122791,\n",
       " 122796,\n",
       " 122800,\n",
       " 123229,\n",
       " 123231,\n",
       " 123268,\n",
       " 123325,\n",
       " 123536,\n",
       " 123634,\n",
       " 123969,\n",
       " 124311,\n",
       " 124365,\n",
       " 124512,\n",
       " 125083,\n",
       " 125340,\n",
       " 125346,\n",
       " 125531,\n",
       " 125551,\n",
       " 125607,\n",
       " 125633,\n",
       " 125844,\n",
       " 125904,\n",
       " 125925,\n",
       " 126290,\n",
       " 126345,\n",
       " 126833,\n",
       " 127164,\n",
       " 127365,\n",
       " 127526,\n",
       " 127612,\n",
       " 128156,\n",
       " 128307,\n",
       " 128763,\n",
       " 128836,\n",
       " 129001,\n",
       " 129005,\n",
       " 129094,\n",
       " 129246,\n",
       " 129749,\n",
       " 129870,\n",
       " 129923,\n",
       " 129948,\n",
       " 129997,\n",
       " 130105,\n",
       " 130367,\n",
       " 130498,\n",
       " 130850,\n",
       " 131274,\n",
       " 131611,\n",
       " 131632,\n",
       " 131891,\n",
       " 132126,\n",
       " 132386,\n",
       " 132428,\n",
       " 132566,\n",
       " 132729,\n",
       " 132831,\n",
       " 132867,\n",
       " ...]"
      ]
     },
     "execution_count": 473,
     "metadata": {},
     "output_type": "execute_result"
    }
   ],
   "source": [
    "detect_outliers(dats, \"JURISDICTION_CODE\")"
   ]
  },
  {
   "cell_type": "code",
   "execution_count": 474,
   "id": "bc28a00b-5626-475a-8414-92d84823d753",
   "metadata": {},
   "outputs": [
    {
     "name": "stdout",
     "output_type": "stream",
     "text": [
      "[0, 0]\n"
     ]
    },
    {
     "data": {
      "text/plain": [
       "[38222, 46032]"
      ]
     },
     "execution_count": 474,
     "metadata": {},
     "output_type": "execute_result"
    }
   ],
   "source": [
    "detect_outliers(dats, \"X_COORD_CD\")"
   ]
  },
  {
   "cell_type": "code",
   "execution_count": 475,
   "id": "5cb07d0c-b124-456f-9e3d-e61106e7a751",
   "metadata": {},
   "outputs": [
    {
     "name": "stdout",
     "output_type": "stream",
     "text": [
      "[0, 0]\n"
     ]
    },
    {
     "data": {
      "text/plain": [
       "[38222, 46032]"
      ]
     },
     "execution_count": 475,
     "metadata": {},
     "output_type": "execute_result"
    }
   ],
   "source": [
    "detect_outliers(dats, \"Y_COORD_CD\")"
   ]
  },
  {
   "cell_type": "code",
   "execution_count": 476,
   "id": "c0a50712-bdf9-4ad3-9554-b2fd84f80998",
   "metadata": {},
   "outputs": [
    {
     "name": "stdout",
     "output_type": "stream",
     "text": [
      "[0.0, 0.0]\n"
     ]
    },
    {
     "data": {
      "text/plain": [
       "[38222, 46032]"
      ]
     },
     "execution_count": 476,
     "metadata": {},
     "output_type": "execute_result"
    }
   ],
   "source": [
    "detect_outliers(dats, \"Latitude\")"
   ]
  },
  {
   "cell_type": "code",
   "execution_count": 477,
   "id": "53c73a07-bf17-4542-a362-486f703d0c83",
   "metadata": {},
   "outputs": [
    {
     "name": "stdout",
     "output_type": "stream",
     "text": [
      "[0.0, 0.0]\n"
     ]
    }
   ],
   "source": [
    "outlier_ind = detect_outliers(dats, \"Longitude\")"
   ]
  },
  {
   "cell_type": "markdown",
   "id": "08077f51-87fc-4f0c-9753-1825c5fce051",
   "metadata": {},
   "source": [
    "####  Unfortunately, the JURISDICTION_CODE feature ranges wildly. It really contains categorical data, as each jurisdiction is assigned a number. Therefore, we will not include it in this outlier detection analysis. However, we do notice that two rows are outliers when looking at the X_COORD, Y_COORD, Latitude, and Longitude features. It appears someone has inputted these features with values of 0 in these rows. We will now remove these rows from the dataset."
   ]
  },
  {
   "cell_type": "code",
   "execution_count": 478,
   "id": "c937dd32-ac2c-4f85-b342-3e26675e7a90",
   "metadata": {},
   "outputs": [],
   "source": [
    "dats = dats.drop(outlier_ind)"
   ]
  },
  {
   "cell_type": "code",
   "execution_count": 479,
   "id": "552e85e5-c546-421b-a6fc-ad035621600b",
   "metadata": {},
   "outputs": [],
   "source": [
    "dats_copy = dats.copy(deep=True)"
   ]
  },
  {
   "cell_type": "markdown",
   "id": "7c492b24-a598-4d28-aad0-2a9f8e8ad1b7",
   "metadata": {},
   "source": [
    "## 5. Convert features with string datatype to categorical"
   ]
  },
  {
   "cell_type": "code",
   "execution_count": 480,
   "id": "3b03ff03-b13c-4908-ac1b-2ca650765e08",
   "metadata": {},
   "outputs": [],
   "source": [
    "dats['LAW_CAT_CD'] = pd.factorize(dats['LAW_CAT_CD'])[0]\n",
    "dats['ARREST_BORO'] = pd.factorize(dats['ARREST_BORO'])[0]\n",
    "dats['AGE_GROUP'] = pd.factorize(dats['AGE_GROUP'])[0]\n",
    "dats['PERP_SEX'] = pd.factorize(dats['PERP_SEX'])[0]\n",
    "dats['PERP_RACE'] = pd.factorize(dats['PERP_RACE'])[0]\n",
    "dats['PD_DESC'] = pd.factorize(dats['PD_DESC'])[0]\n",
    "dats['OFNS_DESC'] = pd.factorize(dats['OFNS_DESC'])[0]\n",
    "dats['LAW_CODE'] = pd.factorize(dats['LAW_CODE'])[0]"
   ]
  },
  {
   "cell_type": "markdown",
   "id": "b0551939-a47f-4193-9f73-328030d9601b",
   "metadata": {},
   "source": [
    "#### Transforming the ARREST_DATE feature into month and day features. We won't include the year as everything is in 2024."
   ]
  },
  {
   "cell_type": "code",
   "execution_count": 481,
   "id": "4f71b3b7-f180-4a5b-a663-e631e999180f",
   "metadata": {},
   "outputs": [],
   "source": [
    "dats[\"ARREST_DATE_MONTH\"] = pd.DatetimeIndex(dats[\"ARREST_DATE\"]).month\n",
    "dats[\"ARREST_DATE_DAY\"] = pd.DatetimeIndex(dats[\"ARREST_DATE\"]).day\n",
    "dats = dats.drop(\"ARREST_DATE\", axis = 1)"
   ]
  },
  {
   "cell_type": "code",
   "execution_count": 482,
   "id": "3e38b6fc-6d00-4173-8db6-3e8dd0e77947",
   "metadata": {},
   "outputs": [
    {
     "data": {
      "text/html": [
       "<div>\n",
       "<style scoped>\n",
       "    .dataframe tbody tr th:only-of-type {\n",
       "        vertical-align: middle;\n",
       "    }\n",
       "\n",
       "    .dataframe tbody tr th {\n",
       "        vertical-align: top;\n",
       "    }\n",
       "\n",
       "    .dataframe thead th {\n",
       "        text-align: right;\n",
       "    }\n",
       "</style>\n",
       "<table border=\"1\" class=\"dataframe\">\n",
       "  <thead>\n",
       "    <tr style=\"text-align: right;\">\n",
       "      <th></th>\n",
       "      <th>PD_CD</th>\n",
       "      <th>PD_DESC</th>\n",
       "      <th>KY_CD</th>\n",
       "      <th>OFNS_DESC</th>\n",
       "      <th>LAW_CODE</th>\n",
       "      <th>LAW_CAT_CD</th>\n",
       "      <th>ARREST_BORO</th>\n",
       "      <th>ARREST_PRECINCT</th>\n",
       "      <th>JURISDICTION_CODE</th>\n",
       "      <th>AGE_GROUP</th>\n",
       "      <th>PERP_SEX</th>\n",
       "      <th>PERP_RACE</th>\n",
       "      <th>X_COORD_CD</th>\n",
       "      <th>Y_COORD_CD</th>\n",
       "      <th>Latitude</th>\n",
       "      <th>Longitude</th>\n",
       "      <th>ARREST_DATE_MONTH</th>\n",
       "      <th>ARREST_DATE_DAY</th>\n",
       "    </tr>\n",
       "  </thead>\n",
       "  <tbody>\n",
       "    <tr>\n",
       "      <th>count</th>\n",
       "      <td>194310.000000</td>\n",
       "      <td>194310.000000</td>\n",
       "      <td>194310.000000</td>\n",
       "      <td>194310.000000</td>\n",
       "      <td>194310.000000</td>\n",
       "      <td>194310.000000</td>\n",
       "      <td>194310.00000</td>\n",
       "      <td>194310.000000</td>\n",
       "      <td>194310.000000</td>\n",
       "      <td>194310.000000</td>\n",
       "      <td>194310.000000</td>\n",
       "      <td>194310.000000</td>\n",
       "      <td>1.943100e+05</td>\n",
       "      <td>194310.000000</td>\n",
       "      <td>194310.000000</td>\n",
       "      <td>194310.000000</td>\n",
       "      <td>194310.000000</td>\n",
       "      <td>194310.000000</td>\n",
       "    </tr>\n",
       "    <tr>\n",
       "      <th>mean</th>\n",
       "      <td>432.830559</td>\n",
       "      <td>28.704169</td>\n",
       "      <td>247.764603</td>\n",
       "      <td>12.854341</td>\n",
       "      <td>72.120241</td>\n",
       "      <td>0.592461</td>\n",
       "      <td>2.12339</td>\n",
       "      <td>63.683748</td>\n",
       "      <td>0.917163</td>\n",
       "      <td>0.716870</td>\n",
       "      <td>0.179888</td>\n",
       "      <td>1.624085</td>\n",
       "      <td>1.005733e+06</td>\n",
       "      <td>207812.495502</td>\n",
       "      <td>40.737023</td>\n",
       "      <td>-73.922452</td>\n",
       "      <td>5.047203</td>\n",
       "      <td>15.519026</td>\n",
       "    </tr>\n",
       "    <tr>\n",
       "      <th>std</th>\n",
       "      <td>271.193151</td>\n",
       "      <td>24.505115</td>\n",
       "      <td>134.974724</td>\n",
       "      <td>8.558258</td>\n",
       "      <td>96.756991</td>\n",
       "      <td>0.535184</td>\n",
       "      <td>1.56016</td>\n",
       "      <td>34.889910</td>\n",
       "      <td>6.958548</td>\n",
       "      <td>0.989663</td>\n",
       "      <td>0.384095</td>\n",
       "      <td>1.184136</td>\n",
       "      <td>2.120980e+04</td>\n",
       "      <td>29539.597134</td>\n",
       "      <td>0.081083</td>\n",
       "      <td>0.076494</td>\n",
       "      <td>2.571391</td>\n",
       "      <td>8.701252</td>\n",
       "    </tr>\n",
       "    <tr>\n",
       "      <th>min</th>\n",
       "      <td>100.000000</td>\n",
       "      <td>0.000000</td>\n",
       "      <td>101.000000</td>\n",
       "      <td>0.000000</td>\n",
       "      <td>0.000000</td>\n",
       "      <td>0.000000</td>\n",
       "      <td>0.00000</td>\n",
       "      <td>1.000000</td>\n",
       "      <td>0.000000</td>\n",
       "      <td>0.000000</td>\n",
       "      <td>0.000000</td>\n",
       "      <td>0.000000</td>\n",
       "      <td>9.139790e+05</td>\n",
       "      <td>121508.000000</td>\n",
       "      <td>40.499940</td>\n",
       "      <td>-74.252711</td>\n",
       "      <td>1.000000</td>\n",
       "      <td>1.000000</td>\n",
       "    </tr>\n",
       "    <tr>\n",
       "      <th>25%</th>\n",
       "      <td>117.000000</td>\n",
       "      <td>10.000000</td>\n",
       "      <td>113.000000</td>\n",
       "      <td>6.000000</td>\n",
       "      <td>13.000000</td>\n",
       "      <td>0.000000</td>\n",
       "      <td>1.00000</td>\n",
       "      <td>40.000000</td>\n",
       "      <td>0.000000</td>\n",
       "      <td>0.000000</td>\n",
       "      <td>0.000000</td>\n",
       "      <td>1.000000</td>\n",
       "      <td>9.907960e+05</td>\n",
       "      <td>185680.500000</td>\n",
       "      <td>40.676305</td>\n",
       "      <td>-73.976436</td>\n",
       "      <td>3.000000</td>\n",
       "      <td>8.000000</td>\n",
       "    </tr>\n",
       "    <tr>\n",
       "      <th>50%</th>\n",
       "      <td>397.000000</td>\n",
       "      <td>22.000000</td>\n",
       "      <td>250.000000</td>\n",
       "      <td>12.000000</td>\n",
       "      <td>45.000000</td>\n",
       "      <td>1.000000</td>\n",
       "      <td>3.00000</td>\n",
       "      <td>63.000000</td>\n",
       "      <td>0.000000</td>\n",
       "      <td>0.000000</td>\n",
       "      <td>0.000000</td>\n",
       "      <td>1.000000</td>\n",
       "      <td>1.005345e+06</td>\n",
       "      <td>206924.000000</td>\n",
       "      <td>40.734637</td>\n",
       "      <td>-73.923872</td>\n",
       "      <td>5.000000</td>\n",
       "      <td>15.000000</td>\n",
       "    </tr>\n",
       "    <tr>\n",
       "      <th>75%</th>\n",
       "      <td>705.000000</td>\n",
       "      <td>41.000000</td>\n",
       "      <td>344.000000</td>\n",
       "      <td>20.000000</td>\n",
       "      <td>90.000000</td>\n",
       "      <td>1.000000</td>\n",
       "      <td>4.00000</td>\n",
       "      <td>102.000000</td>\n",
       "      <td>0.000000</td>\n",
       "      <td>1.000000</td>\n",
       "      <td>0.000000</td>\n",
       "      <td>2.000000</td>\n",
       "      <td>1.017933e+06</td>\n",
       "      <td>235604.000000</td>\n",
       "      <td>40.813343</td>\n",
       "      <td>-73.878333</td>\n",
       "      <td>7.000000</td>\n",
       "      <td>23.000000</td>\n",
       "    </tr>\n",
       "    <tr>\n",
       "      <th>max</th>\n",
       "      <td>997.000000</td>\n",
       "      <td>242.000000</td>\n",
       "      <td>882.000000</td>\n",
       "      <td>56.000000</td>\n",
       "      <td>1035.000000</td>\n",
       "      <td>4.000000</td>\n",
       "      <td>4.00000</td>\n",
       "      <td>123.000000</td>\n",
       "      <td>97.000000</td>\n",
       "      <td>4.000000</td>\n",
       "      <td>1.000000</td>\n",
       "      <td>6.000000</td>\n",
       "      <td>1.067185e+06</td>\n",
       "      <td>271282.000000</td>\n",
       "      <td>40.911236</td>\n",
       "      <td>-73.700717</td>\n",
       "      <td>9.000000</td>\n",
       "      <td>31.000000</td>\n",
       "    </tr>\n",
       "  </tbody>\n",
       "</table>\n",
       "</div>"
      ],
      "text/plain": [
       "               PD_CD        PD_DESC          KY_CD      OFNS_DESC  \\\n",
       "count  194310.000000  194310.000000  194310.000000  194310.000000   \n",
       "mean      432.830559      28.704169     247.764603      12.854341   \n",
       "std       271.193151      24.505115     134.974724       8.558258   \n",
       "min       100.000000       0.000000     101.000000       0.000000   \n",
       "25%       117.000000      10.000000     113.000000       6.000000   \n",
       "50%       397.000000      22.000000     250.000000      12.000000   \n",
       "75%       705.000000      41.000000     344.000000      20.000000   \n",
       "max       997.000000     242.000000     882.000000      56.000000   \n",
       "\n",
       "            LAW_CODE     LAW_CAT_CD   ARREST_BORO  ARREST_PRECINCT  \\\n",
       "count  194310.000000  194310.000000  194310.00000    194310.000000   \n",
       "mean       72.120241       0.592461       2.12339        63.683748   \n",
       "std        96.756991       0.535184       1.56016        34.889910   \n",
       "min         0.000000       0.000000       0.00000         1.000000   \n",
       "25%        13.000000       0.000000       1.00000        40.000000   \n",
       "50%        45.000000       1.000000       3.00000        63.000000   \n",
       "75%        90.000000       1.000000       4.00000       102.000000   \n",
       "max      1035.000000       4.000000       4.00000       123.000000   \n",
       "\n",
       "       JURISDICTION_CODE      AGE_GROUP       PERP_SEX      PERP_RACE  \\\n",
       "count      194310.000000  194310.000000  194310.000000  194310.000000   \n",
       "mean            0.917163       0.716870       0.179888       1.624085   \n",
       "std             6.958548       0.989663       0.384095       1.184136   \n",
       "min             0.000000       0.000000       0.000000       0.000000   \n",
       "25%             0.000000       0.000000       0.000000       1.000000   \n",
       "50%             0.000000       0.000000       0.000000       1.000000   \n",
       "75%             0.000000       1.000000       0.000000       2.000000   \n",
       "max            97.000000       4.000000       1.000000       6.000000   \n",
       "\n",
       "         X_COORD_CD     Y_COORD_CD       Latitude      Longitude  \\\n",
       "count  1.943100e+05  194310.000000  194310.000000  194310.000000   \n",
       "mean   1.005733e+06  207812.495502      40.737023     -73.922452   \n",
       "std    2.120980e+04   29539.597134       0.081083       0.076494   \n",
       "min    9.139790e+05  121508.000000      40.499940     -74.252711   \n",
       "25%    9.907960e+05  185680.500000      40.676305     -73.976436   \n",
       "50%    1.005345e+06  206924.000000      40.734637     -73.923872   \n",
       "75%    1.017933e+06  235604.000000      40.813343     -73.878333   \n",
       "max    1.067185e+06  271282.000000      40.911236     -73.700717   \n",
       "\n",
       "       ARREST_DATE_MONTH  ARREST_DATE_DAY  \n",
       "count      194310.000000    194310.000000  \n",
       "mean            5.047203        15.519026  \n",
       "std             2.571391         8.701252  \n",
       "min             1.000000         1.000000  \n",
       "25%             3.000000         8.000000  \n",
       "50%             5.000000        15.000000  \n",
       "75%             7.000000        23.000000  \n",
       "max             9.000000        31.000000  "
      ]
     },
     "execution_count": 482,
     "metadata": {},
     "output_type": "execute_result"
    }
   ],
   "source": [
    "dats.describe()"
   ]
  },
  {
   "cell_type": "markdown",
   "id": "746969db-e608-4ab8-96db-8016e05388a1",
   "metadata": {},
   "source": [
    "## 6. Data Visualization"
   ]
  },
  {
   "cell_type": "code",
   "execution_count": 483,
   "id": "ab516f41-771a-4d97-a1fa-771e19b856ed",
   "metadata": {},
   "outputs": [
    {
     "data": {
      "image/png": "[encoded data removed]",
      "text/plain": [
       "<Figure size 1200x500 with 1 Axes>"
      ]
     },
     "metadata": {},
     "output_type": "display_data"
    }
   ],
   "source": [
    "plt.subplots(figsize=(12,5))\n",
    "\n",
    "ax = sns.countplot(dats, x='ARREST_DATE_MONTH', color='salmon')\n",
    "ax.set_xticks(ax.get_xticks())\n",
    "ax.set_xticklabels(['January', 'February', 'March', 'April', 'May', 'June', 'July', 'August', 'September'])\n",
    "ax.set_xlabel(\"Month\")\n",
    "ax.set_ylabel(\"Number of Crimes\")\n",
    "\n",
    "#ax.set_facecolor(\"lightgray\")\n",
    "#plt.gcf().set_facecolor(\"lightgray\")\n",
    "\n",
    "plt.title('Monthly Crime Totals')\n",
    "plt.show()"
   ]
  },
  {
   "cell_type": "code",
   "execution_count": 484,
   "id": "6167d5cd-4b3c-43ac-bef0-8f36fcf03994",
   "metadata": {},
   "outputs": [
    {
     "data": {
      "image/png": "[encoded data removed]",
      "text/plain": [
       "<Figure size 800x400 with 1 Axes>"
      ]
     },
     "metadata": {},
     "output_type": "display_data"
    }
   ],
   "source": [
    "borough_map = {4: \"Brooklyn\", 3: \"Manhattan\", 1: \"Bronx\", 0: \"Queens\", 2: \"Staten Island\"}\n",
    "dats_copy['ARREST_BORO'] = dats['ARREST_BORO'].map(borough_map)\n",
    "\n",
    "plt.subplots(figsize=(8,4))\n",
    "\n",
    "ax = sns.countplot(dats_copy, x='ARREST_BORO', order = dats_copy['ARREST_BORO'].value_counts().index, color='salmon')\n",
    "ax.set_xlabel(\"Borough\")\n",
    "ax.set_ylabel(\"Crime Total\")\n",
    "\n",
    "plt.title('Borough Crime Totals')\n",
    "plt.show()"
   ]
  },
  {
   "cell_type": "code",
   "execution_count": 485,
   "id": "edcd3fa0-e8cd-4f77-97f6-9b1155742cab",
   "metadata": {},
   "outputs": [
    {
     "data": {
      "image/png": "[encoded data removed]",
      "text/plain": [
       "<Figure size 800x400 with 1 Axes>"
      ]
     },
     "metadata": {},
     "output_type": "display_data"
    }
   ],
   "source": [
    "plt.subplots(figsize=(8,4))\n",
    "\n",
    "ax = sns.countplot(dats_copy, x='LAW_CAT_CD', order = dats_copy['LAW_CAT_CD'].value_counts().index, color='salmon')\n",
    "\n",
    "law_map = {'M': \"Misdemeanor\", 'F': \"Felony\", 'V': \"Violation\", '9': \"Other\", 'I': \"Infraction\"}\n",
    "original_labels = [tick.get_text() for tick in ax.get_xticklabels()]\n",
    "new_labels = [law_map[label] for label in original_labels]\n",
    "\n",
    "ax.set_xticks(ax.get_xticks())\n",
    "ax.set_xticklabels(new_labels)\n",
    "ax.set_xlabel(\"Law Category\")\n",
    "ax.set_ylabel(\"Crime Total\")\n",
    "\n",
    "plt.title('Law Category Crime Totals')\n",
    "plt.show()"
   ]
  },
  {
   "cell_type": "code",
   "execution_count": 486,
   "id": "319645d9-37ef-4b59-b838-ebccd3017ccd",
   "metadata": {},
   "outputs": [
    {
     "data": {
      "text/plain": [
       "<Axes: xlabel='Law Categories'>"
      ]
     },
     "execution_count": 486,
     "metadata": {},
     "output_type": "execute_result"
    },
    {
     "data": {
      "image/png": "[encoded data removed]",
      "text/plain": [
       "<Figure size 640x480 with 1 Axes>"
      ]
     },
     "metadata": {},
     "output_type": "display_data"
    }
   ],
   "source": [
    "crime_counts_sex = original.groupby(['LAW_CAT_CD', 'PERP_SEX']).size().unstack()\n",
    "categorized_crime_sex = pd.DataFrame({\n",
    "    \"Law Categories\": [\"Felony\", \"Misdemeanor\", \"Violation\", \"9\", \"Infraction\"],\n",
    "    \"Female\": [\n",
    "        crime_counts_sex.loc['F', 'F'] if 'F' in crime_counts_sex.index else 0,\n",
    "        crime_counts_sex.loc['M', 'F'] if 'M' in crime_counts_sex.index else 0,\n",
    "        crime_counts_sex.loc['V', 'F'] if 'V' in crime_counts_sex.index else 0,\n",
    "        crime_counts_sex.loc['9', 'F'] if '9' in crime_counts_sex.index else 0,\n",
    "        crime_counts_sex.loc['I', 'F'] if 'I' in crime_counts_sex.index else 0\n",
    "    ],\n",
    "    \"Male\": [\n",
    "        crime_counts_sex.loc['F', 'M'] if 'F' in crime_counts_sex.index else 0,\n",
    "        crime_counts_sex.loc['M', 'M'] if 'M' in crime_counts_sex.index else 0,\n",
    "        crime_counts_sex.loc['V', 'M'] if 'V' in crime_counts_sex.index else 0,\n",
    "        crime_counts_sex.loc['9', 'M'] if '9' in crime_counts_sex.index else 0,\n",
    "        crime_counts_sex.loc['I', 'M'] if 'I' in crime_counts_sex.index else 0\n",
    "    ]\n",
    "})\n",
    "categorized_crime_sex.plot.bar(x='Law Categories', y=['Female', 'Male'], color=['pink', 'skyblue'], width=0.8)"
   ]
  },
  {
   "cell_type": "code",
   "execution_count": 487,
   "id": "8f7b7bfe-492a-45d9-b5c7-c12485fbc583",
   "metadata": {},
   "outputs": [
    {
     "data": {
      "image/png": "[encoded data removed]",
      "text/plain": [
       "<Figure size 600x400 with 1 Axes>"
      ]
     },
     "metadata": {},
     "output_type": "display_data"
    }
   ],
   "source": [
    "plt.subplots(figsize=(6,4))\n",
    "\n",
    "ax = sns.countplot(dats_copy, x='PERP_SEX', order=dats_copy['PERP_SEX'].value_counts().index, hue='PERP_SEX', palette=['skyblue', 'pink'])\n",
    "ax.set_xlabel(\"Gender\")\n",
    "ax.set_ylabel(\"Crime Total\")\n",
    "\n",
    "plt.title('Gender Crime Totals')\n",
    "plt.show()"
   ]
  },
  {
   "cell_type": "markdown",
   "id": "76eb1b6f-3c98-44e1-b4a1-ab005056fcc9",
   "metadata": {},
   "source": [
    "## 7. Correlation"
   ]
  },
  {
   "cell_type": "code",
   "execution_count": 488,
   "id": "da16a8cd-cb3b-42a1-9296-258552c7e307",
   "metadata": {},
   "outputs": [
    {
     "data": {
      "image/png": "[encoded data removed]",
      "text/plain": [
       "<Figure size 1200x500 with 2 Axes>"
      ]
     },
     "metadata": {},
     "output_type": "display_data"
    }
   ],
   "source": [
    "correl = dats.corr()\n",
    "plt.figure(figsize=(12,5))\n",
    "sns.heatmap(correl, annot=True, cmap='coolwarm', fmt='.2f', linewidths=0.5)\n",
    "plt.title('NYPD Arrest Data Correlation Matrix Heatmap')\n",
    "plt.show()"
   ]
  },
  {
   "cell_type": "markdown",
   "id": "af41f545-3bec-44ed-8c96-8aa15c0e39e3",
   "metadata": {},
   "source": [
    "## 8. Choosing target variable and features"
   ]
  },
  {
   "cell_type": "markdown",
   "id": "8dff9fae-2994-44d3-b1b0-1fa78d2d7dce",
   "metadata": {},
   "source": [
    "#### We are going to predict the perpetrator's sex using \"PD_CD\", \"PD_DESC\", and \"OFNS_DESC\" because these variables have the highest correlation among the available features."
   ]
  },
  {
   "cell_type": "code",
   "execution_count": 489,
   "id": "ad076cc3-43b6-4567-b485-fa65a0127b3c",
   "metadata": {},
   "outputs": [],
   "source": [
    "target = [\"PERP_SEX\"]\n",
    "features = [\"PD_CD\", \"PD_DESC\", \"OFNS_DESC\"]"
   ]
  },
  {
   "cell_type": "code",
   "execution_count": 490,
   "id": "fe272321-3676-4225-a1fc-9e7536643b1f",
   "metadata": {},
   "outputs": [],
   "source": [
    "new_dats = dats[features]\n",
    "new_dats = new_dats.join(dats[target])"
   ]
  },
  {
   "cell_type": "code",
   "execution_count": 491,
   "id": "440346fc-65a3-4337-b4db-badd5a84f95f",
   "metadata": {},
   "outputs": [
    {
     "data": {
      "text/html": [
       "<div>\n",
       "<style scoped>\n",
       "    .dataframe tbody tr th:only-of-type {\n",
       "        vertical-align: middle;\n",
       "    }\n",
       "\n",
       "    .dataframe tbody tr th {\n",
       "        vertical-align: top;\n",
       "    }\n",
       "\n",
       "    .dataframe thead th {\n",
       "        text-align: right;\n",
       "    }\n",
       "</style>\n",
       "<table border=\"1\" class=\"dataframe\">\n",
       "  <thead>\n",
       "    <tr style=\"text-align: right;\">\n",
       "      <th></th>\n",
       "      <th>PD_CD</th>\n",
       "      <th>PD_DESC</th>\n",
       "      <th>OFNS_DESC</th>\n",
       "      <th>PERP_SEX</th>\n",
       "    </tr>\n",
       "  </thead>\n",
       "  <tbody>\n",
       "    <tr>\n",
       "      <th>0</th>\n",
       "      <td>105.0</td>\n",
       "      <td>0</td>\n",
       "      <td>0</td>\n",
       "      <td>0</td>\n",
       "    </tr>\n",
       "    <tr>\n",
       "      <th>1</th>\n",
       "      <td>263.0</td>\n",
       "      <td>1</td>\n",
       "      <td>1</td>\n",
       "      <td>0</td>\n",
       "    </tr>\n",
       "    <tr>\n",
       "      <th>2</th>\n",
       "      <td>109.0</td>\n",
       "      <td>2</td>\n",
       "      <td>0</td>\n",
       "      <td>0</td>\n",
       "    </tr>\n",
       "    <tr>\n",
       "      <th>3</th>\n",
       "      <td>109.0</td>\n",
       "      <td>2</td>\n",
       "      <td>0</td>\n",
       "      <td>0</td>\n",
       "    </tr>\n",
       "    <tr>\n",
       "      <th>4</th>\n",
       "      <td>105.0</td>\n",
       "      <td>0</td>\n",
       "      <td>0</td>\n",
       "      <td>0</td>\n",
       "    </tr>\n",
       "  </tbody>\n",
       "</table>\n",
       "</div>"
      ],
      "text/plain": [
       "   PD_CD  PD_DESC  OFNS_DESC  PERP_SEX\n",
       "0  105.0        0          0         0\n",
       "1  263.0        1          1         0\n",
       "2  109.0        2          0         0\n",
       "3  109.0        2          0         0\n",
       "4  105.0        0          0         0"
      ]
     },
     "execution_count": 491,
     "metadata": {},
     "output_type": "execute_result"
    }
   ],
   "source": [
    "new_dats.head()"
   ]
  },
  {
   "cell_type": "markdown",
   "id": "78486278-cee5-46b3-a1fc-e79d0439fa32",
   "metadata": {},
   "source": [
    "## 9. Normalize non-categorical variables"
   ]
  },
  {
   "cell_type": "code",
   "execution_count": 492,
   "id": "3b0303f7-cd0f-4011-bed2-974f78e6595f",
   "metadata": {},
   "outputs": [],
   "source": [
    "scaler = StandardScaler()\n",
    "col_to_scale = [\"PD_CD\"]\n",
    "new_dats[col_to_scale] = scaler.fit_transform(new_dats[col_to_scale])"
   ]
  },
  {
   "cell_type": "code",
   "execution_count": 493,
   "id": "91b5ee5c-5f7a-437f-bb2a-c62cde00a9e9",
   "metadata": {},
   "outputs": [
    {
     "data": {
      "text/html": [
       "<div>\n",
       "<style scoped>\n",
       "    .dataframe tbody tr th:only-of-type {\n",
       "        vertical-align: middle;\n",
       "    }\n",
       "\n",
       "    .dataframe tbody tr th {\n",
       "        vertical-align: top;\n",
       "    }\n",
       "\n",
       "    .dataframe thead th {\n",
       "        text-align: right;\n",
       "    }\n",
       "</style>\n",
       "<table border=\"1\" class=\"dataframe\">\n",
       "  <thead>\n",
       "    <tr style=\"text-align: right;\">\n",
       "      <th></th>\n",
       "      <th>PD_CD</th>\n",
       "      <th>PD_DESC</th>\n",
       "      <th>OFNS_DESC</th>\n",
       "      <th>PERP_SEX</th>\n",
       "    </tr>\n",
       "  </thead>\n",
       "  <tbody>\n",
       "    <tr>\n",
       "      <th>0</th>\n",
       "      <td>-1.208848</td>\n",
       "      <td>0</td>\n",
       "      <td>0</td>\n",
       "      <td>0</td>\n",
       "    </tr>\n",
       "    <tr>\n",
       "      <th>1</th>\n",
       "      <td>-0.626236</td>\n",
       "      <td>1</td>\n",
       "      <td>1</td>\n",
       "      <td>0</td>\n",
       "    </tr>\n",
       "    <tr>\n",
       "      <th>2</th>\n",
       "      <td>-1.194099</td>\n",
       "      <td>2</td>\n",
       "      <td>0</td>\n",
       "      <td>0</td>\n",
       "    </tr>\n",
       "    <tr>\n",
       "      <th>3</th>\n",
       "      <td>-1.194099</td>\n",
       "      <td>2</td>\n",
       "      <td>0</td>\n",
       "      <td>0</td>\n",
       "    </tr>\n",
       "    <tr>\n",
       "      <th>4</th>\n",
       "      <td>-1.208848</td>\n",
       "      <td>0</td>\n",
       "      <td>0</td>\n",
       "      <td>0</td>\n",
       "    </tr>\n",
       "  </tbody>\n",
       "</table>\n",
       "</div>"
      ],
      "text/plain": [
       "      PD_CD  PD_DESC  OFNS_DESC  PERP_SEX\n",
       "0 -1.208848        0          0         0\n",
       "1 -0.626236        1          1         0\n",
       "2 -1.194099        2          0         0\n",
       "3 -1.194099        2          0         0\n",
       "4 -1.208848        0          0         0"
      ]
     },
     "execution_count": 493,
     "metadata": {},
     "output_type": "execute_result"
    }
   ],
   "source": [
    "new_dats.head()"
   ]
  },
  {
   "cell_type": "markdown",
   "id": "438e0049-2647-4789-9aa1-20f0215c31cf",
   "metadata": {},
   "source": [
    "## 10. Train, Validation, and Test Split (70/15/15) for DataLoader"
   ]
  },
  {
   "cell_type": "code",
   "execution_count": 494,
   "id": "4cd88621-eaaa-4494-812b-0cc190fcad98",
   "metadata": {},
   "outputs": [],
   "source": [
    "train, temp = train_test_split(new_dats, test_size = 0.3, random_state = 5)\n",
    "test, val = train_test_split(temp, test_size = 0.5, random_state = 5)"
   ]
  },
  {
   "cell_type": "code",
   "execution_count": 495,
   "id": "fcef6551-a651-47f1-8159-2ca476ccef67",
   "metadata": {},
   "outputs": [],
   "source": [
    "x_train = torch.tensor(train.drop(columns = [\"PERP_SEX\"]).values, dtype=torch.float32)\n",
    "y_train = torch.tensor(train[\"PERP_SEX\"].values, dtype=torch.long)\n",
    "train_loader = DataLoader(TensorDataset(x_train, y_train), batch_size=32, shuffle=True)\n",
    "num_features = len(x_train[0])"
   ]
  },
  {
   "cell_type": "code",
   "execution_count": 496,
   "id": "f6c73a31-3cbb-4730-a9f3-a7937bf763d7",
   "metadata": {},
   "outputs": [],
   "source": [
    "x_val = torch.tensor(val.drop(columns = [\"PERP_SEX\"]).values, dtype=torch.float32)\n",
    "y_val = torch.tensor(val[\"PERP_SEX\"].values, dtype=torch.long)\n",
    "val_loader = DataLoader(TensorDataset(x_val, y_val), batch_size=32, shuffle=True)"
   ]
  },
  {
   "cell_type": "code",
   "execution_count": 497,
   "id": "8e907582-d7ba-41d0-8143-d9b112943406",
   "metadata": {},
   "outputs": [],
   "source": [
    "x_test = torch.tensor(test.drop(columns = [\"PERP_SEX\"]).values, dtype=torch.float32)\n",
    "y_test = torch.tensor(test[\"PERP_SEX\"].values, dtype=torch.long)\n",
    "test_loader = DataLoader(TensorDataset(x_test, y_test), batch_size=32, shuffle=True)"
   ]
  },
  {
   "cell_type": "code",
   "execution_count": 498,
   "id": "fb3999a5-f119-4ae9-93cc-5421ee94cfc4",
   "metadata": {},
   "outputs": [
    {
     "name": "stdout",
     "output_type": "stream",
     "text": [
      "Training Data: features followed by target\n",
      "torch.Size([32, 3])\n",
      "torch.Size([32])\n"
     ]
    }
   ],
   "source": [
    "print(\"Training Data: features followed by target\")\n",
    "for features, target in train_loader:\n",
    "    print(features.shape)\n",
    "    print(target.shape)\n",
    "    break"
   ]
  },
  {
   "cell_type": "markdown",
   "id": "66d61e96-025c-445a-8e3c-e7fbfc0e668c",
   "metadata": {},
   "source": [
    "# Neural Network"
   ]
  },
  {
   "cell_type": "code",
   "execution_count": 499,
   "id": "0e6228f6-2383-48d0-83b4-caa311ca185e",
   "metadata": {},
   "outputs": [
    {
     "name": "stdout",
     "output_type": "stream",
     "text": [
      "NeuralNet(\n",
      "  (fc1): Linear(in_features=3, out_features=128, bias=True)\n",
      "  (fc2): Linear(in_features=128, out_features=64, bias=True)\n",
      "  (fc3): Linear(in_features=64, out_features=32, bias=True)\n",
      "  (fc4): Linear(in_features=32, out_features=16, bias=True)\n",
      "  (out): Linear(in_features=16, out_features=2, bias=True)\n",
      ")\n"
     ]
    }
   ],
   "source": [
    "class NeuralNet(nn.Module):\n",
    "    # Input Layer (5 features of NYPD arrest data)\n",
    "    \n",
    "    def __init__(self, in_features = num_features, out_features = 2):\n",
    "        super().__init__() #instantiates our nn.Model\n",
    "        self.fc1 = nn.Linear(in_features, 128)\n",
    "        self.fc2 = nn.Linear(128, 64)\n",
    "        self.fc3 = nn.Linear(64, 32)\n",
    "        self.fc4 = nn.Linear(32, 16)\n",
    "        self.out = nn.Linear(16, out_features)\n",
    "    \n",
    "    def forward(self, x):\n",
    "        \n",
    "        x = F.relu(self.fc1(x))\n",
    "        x = F.relu(self.fc2(x))\n",
    "        x = F.relu(self.fc3(x))\n",
    "        x = F.relu(self.fc4(x))\n",
    "        x = self.out(x)\n",
    "        \n",
    "        return x\n",
    "\n",
    "# Create an instance of the model\n",
    "model = NeuralNet()\n",
    "print(model)"
   ]
  },
  {
   "cell_type": "markdown",
   "id": "1ec12ff0-d328-4be1-a916-eee71a268fa6",
   "metadata": {},
   "source": [
    "# Training Function with Validation Early Stopping"
   ]
  },
  {
   "cell_type": "code",
   "execution_count": 500,
   "id": "6a850136-474b-4d75-adf2-306ebb5d3677",
   "metadata": {},
   "outputs": [],
   "source": [
    "def train_model(model, train_dataloader, val_dataloader, num_epochs, optimizer, loss_function, val_patience=3):\n",
    "    train_loss, val_loss = [], [] # initializing loss lists\n",
    "    train_acc, val_acc = [], []  # initializing accuracy lists\n",
    "    previous_val_loss = float('inf')\n",
    "    val_patience = val_patience\n",
    "    val_counter = 0\n",
    "\n",
    "    for epoch in range(num_epochs):\n",
    "        model.train()\n",
    "        train_running_loss, train_running_correct = 0.0, 0\n",
    "\n",
    "        progress_bar_train = tqdm(train_dataloader, desc=f\"Epoch {epoch+1}/{num_epochs} - Training\", unit=\"batch\")\n",
    "        for data in progress_bar_train:\n",
    "            inputs, targets = data\n",
    "            inputs, targets = inputs.to(device), targets.to(device)\n",
    "\n",
    "            optimizer.zero_grad() # zeroing the parameters\n",
    "\n",
    "            outputs = model(inputs) # forward pass through the model\n",
    "\n",
    "            loss = loss_function(outputs, targets) # calculating the loss\n",
    "            train_running_loss += loss.item() * inputs.size(0)\n",
    "            # multiplying the loss by the number of samples in the batch, thereby weighting its loss value\n",
    "            # this is because the last batch may have fewer samples\n",
    "\n",
    "            loss.backward() # backpropogation\n",
    "            optimizer.step()\n",
    "\n",
    "           # determining accurate predictions\n",
    "            _, preds = torch.max(outputs, 1)\n",
    "            train_running_correct += torch.sum(preds == targets.data)\n",
    "\n",
    "        # calculating/appending epoch loss and accuracy\n",
    "        epoch_loss = train_running_loss / len(train_dataloader.dataset) # dividing by the total number of samples\n",
    "        epoch_acc = train_running_correct.double() / len(train_dataloader.dataset)\n",
    "        train_loss.append(epoch_loss)\n",
    "        train_acc.append(epoch_acc.item())\n",
    "\n",
    "        model.eval()\n",
    "        val_running_loss, val_running_correct = 0.0, 0\n",
    "\n",
    "        with torch.no_grad():\n",
    "            progress_bar_val = tqdm(val_dataloader, desc=f\"Epoch {epoch+1}/{num_epochs} - Validation\", unit=\"batch\")\n",
    "            for val_data in progress_bar_val:\n",
    "                inputs, targets = val_data\n",
    "                inputs, targets = inputs.to(device), targets.to(device)\n",
    "\n",
    "                outputs = model(inputs) # forward pass\n",
    "                loss = loss_function(outputs, targets) # loss calculation\n",
    "                val_running_loss += loss.item() * inputs.size(0)\n",
    "                _, preds = torch.max(outputs, 1)\n",
    "                val_running_correct += torch.sum(preds == targets.data) # determining accurate predictions\n",
    "\n",
    "        # calculating/appending epoch loss and accuracy\n",
    "        val_epoch_loss = val_running_loss / len(val_dataloader.dataset)\n",
    "        val_epoch_acc = val_running_correct.double() / len(val_dataloader.dataset)\n",
    "        val_loss.append(val_epoch_loss)\n",
    "        val_acc.append(val_epoch_acc.item())\n",
    "\n",
    "        print(f'Epoch {epoch+1:2d} | Train Loss: {epoch_loss:.4f}, Train Acc: {(epoch_acc)*100:.2f} | Val Loss: {val_epoch_loss:.4f}, Val Acc: {(val_epoch_acc)*100:.2f}')\n",
    "\n",
    "        # Early stopping\n",
    "        if val_loss[-1] > previous_val_loss:\n",
    "            val_counter += 1\n",
    "            if val_counter >= val_patience:\n",
    "                print('Early stopping condition met. Validation loss is increasing.')\n",
    "                break\n",
    "        else:\n",
    "            previous_val_loss = val_loss[-1]\n",
    "            val_counter = 0\n",
    "\n",
    "    return train_loss, train_acc, val_loss, val_acc"
   ]
  },
  {
   "cell_type": "code",
   "execution_count": 501,
   "id": "e7024e71-b77e-40c8-847c-c563350ed5f0",
   "metadata": {},
   "outputs": [],
   "source": [
    "def plot_metrics(train_losses, train_accuracies, val_losses, val_accuracies, model_type):\n",
    "    epochs = range(1, len(train_losses) + 1)\n",
    "    plt.figure(figsize=(12, 5))\n",
    "\n",
    "    plt.subplot(1, 2, 1)\n",
    "    plt.plot(epochs, train_losses, 'r', label='Training loss')\n",
    "    plt.plot(epochs, val_losses, 'b', label='Validation loss')\n",
    "    plt.title(f'{model_type} - Training and validation loss')\n",
    "    plt.xlabel('Epochs')\n",
    "    plt.ylabel('Loss')\n",
    "    plt.legend()\n",
    "\n",
    "    plt.subplot(1, 2, 2)\n",
    "    plt.plot(epochs, train_accuracies, 'r', label='Training accuracy')\n",
    "    plt.plot(epochs, val_accuracies, 'b', label='Validation accuracy')\n",
    "    plt.title(f'{model_type} - Training and validation accuracy')\n",
    "    plt.xlabel('Epochs')\n",
    "    plt.ylabel('Accuracy')\n",
    "    plt.legend()\n",
    "\n",
    "    plt.show()"
   ]
  },
  {
   "cell_type": "markdown",
   "id": "5046da7f-c518-43ec-afb5-e6bc4de3e100",
   "metadata": {},
   "source": [
    "# Test Function"
   ]
  },
  {
   "cell_type": "code",
   "execution_count": 502,
   "id": "09644f6b-ab91-4000-8335-25045458dcb9",
   "metadata": {},
   "outputs": [],
   "source": [
    "def evaluate_model(model, test_dataloader, loss_function):\n",
    "    model.eval()\n",
    "    running_loss = 0.0\n",
    "    running_corrects = 0\n",
    "\n",
    "    all_predictions = []\n",
    "    all_targets = []\n",
    "\n",
    "    with torch.no_grad():\n",
    "        with tqdm(test_dataloader, desc='Testing', unit='batch') as test_data:\n",
    "            for inputs, targets in test_data:\n",
    "                inputs, targets = inputs.to(device), targets.to(device)\n",
    "\n",
    "                outputs = model(inputs)\n",
    "                loss = loss_function(outputs, targets)\n",
    "                running_loss += loss.item() * inputs.size(0)\n",
    "\n",
    "                _, preds = torch.max(outputs, 1)\n",
    "                running_corrects += torch.sum(preds == targets.data)\n",
    "\n",
    "                all_predictions.extend(preds.cpu().numpy())\n",
    "                all_targets.extend(targets.cpu().numpy())\n",
    "\n",
    "    test_loss = running_loss / len(test_dataloader.dataset)\n",
    "    test_acc = running_corrects.double() / len(test_dataloader.dataset)\n",
    "\n",
    "    print('\\n')\n",
    "    print(f\"Test Loss: {test_loss:.4f}, Test Accuracy: {test_acc*100:.2f}%\")\n",
    "    print('\\n')\n",
    "\n",
    "    cm = confusion_matrix(all_targets, all_predictions)\n",
    "    plt.figure(figsize=(10, 8))\n",
    "    sns.heatmap(cm, annot=True, fmt='d', cmap='Blues', xticklabels=classes, yticklabels=classes)\n",
    "    plt.xlabel('Predicted')\n",
    "    plt.ylabel('True')\n",
    "    plt.title('Test Set Confusion Matrix')\n",
    "    plt.show()\n",
    "\n",
    "    # report_metrics = classification_report(all_targets, all_predictions)\n",
    "    # print('\\n')\n",
    "    # print(report_metrics)\n",
    "\n",
    "    return test_loss, test_acc"
   ]
  },
  {
   "cell_type": "code",
   "execution_count": 503,
   "id": "d28877ca-7649-4efd-998d-5209216d19e3",
   "metadata": {},
   "outputs": [
    {
     "name": "stderr",
     "output_type": "stream",
     "text": [
      "Epoch 1/500 - Training: 100%|██████████| 4251/4251 [00:13<00:00, 325.16batch/s]\n",
      "Epoch 1/500 - Validation: 100%|██████████| 911/911 [00:00<00:00, 1058.63batch/s]\n"
     ]
    },
    {
     "name": "stdout",
     "output_type": "stream",
     "text": [
      "Epoch  1 | Train Loss: 0.4594, Train Acc: 82.06 | Val Loss: 0.4562, Val Acc: 82.10\n"
     ]
    },
    {
     "name": "stderr",
     "output_type": "stream",
     "text": [
      "Epoch 2/500 - Training: 100%|██████████| 4251/4251 [00:14<00:00, 293.93batch/s]\n",
      "Epoch 2/500 - Validation: 100%|██████████| 911/911 [00:00<00:00, 993.89batch/s] \n"
     ]
    },
    {
     "name": "stdout",
     "output_type": "stream",
     "text": [
      "Epoch  2 | Train Loss: 0.4543, Train Acc: 82.07 | Val Loss: 0.4529, Val Acc: 82.10\n"
     ]
    },
    {
     "name": "stderr",
     "output_type": "stream",
     "text": [
      "Epoch 3/500 - Training: 100%|██████████| 4251/4251 [00:17<00:00, 244.98batch/s]\n",
      "Epoch 3/500 - Validation: 100%|██████████| 911/911 [00:01<00:00, 695.71batch/s]\n"
     ]
    },
    {
     "name": "stdout",
     "output_type": "stream",
     "text": [
      "Epoch  3 | Train Loss: 0.4525, Train Acc: 82.07 | Val Loss: 0.4502, Val Acc: 82.10\n"
     ]
    },
    {
     "name": "stderr",
     "output_type": "stream",
     "text": [
      "Epoch 4/500 - Training: 100%|██████████| 4251/4251 [00:18<00:00, 235.85batch/s]\n",
      "Epoch 4/500 - Validation: 100%|██████████| 911/911 [00:01<00:00, 815.46batch/s]\n"
     ]
    },
    {
     "name": "stdout",
     "output_type": "stream",
     "text": [
      "Epoch  4 | Train Loss: 0.4511, Train Acc: 82.07 | Val Loss: 0.4487, Val Acc: 82.10\n"
     ]
    },
    {
     "name": "stderr",
     "output_type": "stream",
     "text": [
      "Epoch 5/500 - Training: 100%|██████████| 4251/4251 [00:17<00:00, 248.90batch/s]\n",
      "Epoch 5/500 - Validation: 100%|██████████| 911/911 [00:01<00:00, 902.50batch/s] \n"
     ]
    },
    {
     "name": "stdout",
     "output_type": "stream",
     "text": [
      "Epoch  5 | Train Loss: 0.4493, Train Acc: 82.07 | Val Loss: 0.4456, Val Acc: 82.10\n"
     ]
    },
    {
     "name": "stderr",
     "output_type": "stream",
     "text": [
      "Epoch 6/500 - Training: 100%|██████████| 4251/4251 [00:15<00:00, 269.14batch/s]\n",
      "Epoch 6/500 - Validation: 100%|██████████| 911/911 [00:01<00:00, 789.72batch/s]\n"
     ]
    },
    {
     "name": "stdout",
     "output_type": "stream",
     "text": [
      "Epoch  6 | Train Loss: 0.4478, Train Acc: 82.07 | Val Loss: 0.4455, Val Acc: 82.10\n"
     ]
    },
    {
     "name": "stderr",
     "output_type": "stream",
     "text": [
      "Epoch 7/500 - Training: 100%|██████████| 4251/4251 [00:16<00:00, 261.19batch/s]\n",
      "Epoch 7/500 - Validation: 100%|██████████| 911/911 [00:01<00:00, 760.98batch/s]\n"
     ]
    },
    {
     "name": "stdout",
     "output_type": "stream",
     "text": [
      "Epoch  7 | Train Loss: 0.4472, Train Acc: 82.07 | Val Loss: 0.4462, Val Acc: 82.10\n"
     ]
    },
    {
     "name": "stderr",
     "output_type": "stream",
     "text": [
      "Epoch 8/500 - Training: 100%|██████████| 4251/4251 [00:14<00:00, 291.92batch/s]\n",
      "Epoch 8/500 - Validation: 100%|██████████| 911/911 [00:00<00:00, 963.18batch/s] \n"
     ]
    },
    {
     "name": "stdout",
     "output_type": "stream",
     "text": [
      "Epoch  8 | Train Loss: 0.4465, Train Acc: 82.07 | Val Loss: 0.4446, Val Acc: 82.10\n"
     ]
    },
    {
     "name": "stderr",
     "output_type": "stream",
     "text": [
      "Epoch 9/500 - Training: 100%|██████████| 4251/4251 [00:16<00:00, 261.92batch/s]\n",
      "Epoch 9/500 - Validation: 100%|██████████| 911/911 [00:01<00:00, 589.01batch/s]\n"
     ]
    },
    {
     "name": "stdout",
     "output_type": "stream",
     "text": [
      "Epoch  9 | Train Loss: 0.4460, Train Acc: 82.07 | Val Loss: 0.4438, Val Acc: 82.10\n"
     ]
    },
    {
     "name": "stderr",
     "output_type": "stream",
     "text": [
      "Epoch 10/500 - Training: 100%|██████████| 4251/4251 [00:16<00:00, 257.74batch/s]\n",
      "Epoch 10/500 - Validation: 100%|██████████| 911/911 [00:01<00:00, 810.68batch/s]\n"
     ]
    },
    {
     "name": "stdout",
     "output_type": "stream",
     "text": [
      "Epoch 10 | Train Loss: 0.4457, Train Acc: 82.07 | Val Loss: 0.4438, Val Acc: 82.10\n"
     ]
    },
    {
     "name": "stderr",
     "output_type": "stream",
     "text": [
      "Epoch 11/500 - Training: 100%|██████████| 4251/4251 [00:15<00:00, 269.56batch/s]\n",
      "Epoch 11/500 - Validation: 100%|██████████| 911/911 [00:01<00:00, 757.98batch/s]\n"
     ]
    },
    {
     "name": "stdout",
     "output_type": "stream",
     "text": [
      "Epoch 11 | Train Loss: 0.4457, Train Acc: 82.07 | Val Loss: 0.4439, Val Acc: 82.10\n"
     ]
    },
    {
     "name": "stderr",
     "output_type": "stream",
     "text": [
      "Epoch 12/500 - Training: 100%|██████████| 4251/4251 [00:15<00:00, 269.83batch/s]\n",
      "Epoch 12/500 - Validation: 100%|██████████| 911/911 [00:01<00:00, 901.44batch/s] \n"
     ]
    },
    {
     "name": "stdout",
     "output_type": "stream",
     "text": [
      "Epoch 12 | Train Loss: 0.4452, Train Acc: 82.07 | Val Loss: 0.4432, Val Acc: 82.10\n"
     ]
    },
    {
     "name": "stderr",
     "output_type": "stream",
     "text": [
      "Epoch 13/500 - Training: 100%|██████████| 4251/4251 [00:15<00:00, 268.82batch/s]\n",
      "Epoch 13/500 - Validation: 100%|██████████| 911/911 [00:00<00:00, 952.18batch/s] \n"
     ]
    },
    {
     "name": "stdout",
     "output_type": "stream",
     "text": [
      "Epoch 13 | Train Loss: 0.4453, Train Acc: 82.07 | Val Loss: 0.4436, Val Acc: 82.09\n"
     ]
    },
    {
     "name": "stderr",
     "output_type": "stream",
     "text": [
      "Epoch 14/500 - Training: 100%|██████████| 4251/4251 [00:14<00:00, 287.11batch/s]\n",
      "Epoch 14/500 - Validation: 100%|██████████| 911/911 [00:00<00:00, 1077.00batch/s]\n"
     ]
    },
    {
     "name": "stdout",
     "output_type": "stream",
     "text": [
      "Epoch 14 | Train Loss: 0.4450, Train Acc: 82.06 | Val Loss: 0.4458, Val Acc: 81.76\n"
     ]
    },
    {
     "name": "stderr",
     "output_type": "stream",
     "text": [
      "Epoch 15/500 - Training: 100%|██████████| 4251/4251 [00:14<00:00, 289.89batch/s]\n",
      "Epoch 15/500 - Validation: 100%|██████████| 911/911 [00:00<00:00, 1016.87batch/s]\n"
     ]
    },
    {
     "name": "stdout",
     "output_type": "stream",
     "text": [
      "Epoch 15 | Train Loss: 0.4449, Train Acc: 82.07 | Val Loss: 0.4428, Val Acc: 82.10\n"
     ]
    },
    {
     "name": "stderr",
     "output_type": "stream",
     "text": [
      "Epoch 16/500 - Training: 100%|██████████| 4251/4251 [00:14<00:00, 286.23batch/s]\n",
      "Epoch 16/500 - Validation: 100%|██████████| 911/911 [00:00<00:00, 1022.69batch/s]\n"
     ]
    },
    {
     "name": "stdout",
     "output_type": "stream",
     "text": [
      "Epoch 16 | Train Loss: 0.4447, Train Acc: 82.07 | Val Loss: 0.4453, Val Acc: 82.10\n"
     ]
    },
    {
     "name": "stderr",
     "output_type": "stream",
     "text": [
      "Epoch 17/500 - Training: 100%|██████████| 4251/4251 [00:15<00:00, 265.88batch/s]\n",
      "Epoch 17/500 - Validation: 100%|██████████| 911/911 [00:00<00:00, 1018.45batch/s]\n"
     ]
    },
    {
     "name": "stdout",
     "output_type": "stream",
     "text": [
      "Epoch 17 | Train Loss: 0.4448, Train Acc: 82.07 | Val Loss: 0.4444, Val Acc: 82.09\n"
     ]
    },
    {
     "name": "stderr",
     "output_type": "stream",
     "text": [
      "Epoch 18/500 - Training: 100%|██████████| 4251/4251 [00:14<00:00, 287.02batch/s]\n",
      "Epoch 18/500 - Validation: 100%|██████████| 911/911 [00:00<00:00, 1033.15batch/s]\n"
     ]
    },
    {
     "name": "stdout",
     "output_type": "stream",
     "text": [
      "Epoch 18 | Train Loss: 0.4449, Train Acc: 82.07 | Val Loss: 0.4435, Val Acc: 82.10\n",
      "Early stopping condition met. Validation loss is increasing.\n"
     ]
    },
    {
     "data": {
      "image/png": "[encoded data removed]",
      "text/plain": [
       "<Figure size 1200x500 with 2 Axes>"
      ]
     },
     "metadata": {},
     "output_type": "display_data"
    }
   ],
   "source": [
    "model = NeuralNet().to(device)\n",
    "criterion = nn.CrossEntropyLoss().to(device)\n",
    "optimizer = torch.optim.Adam(model.parameters(), lr = 0.001)\n",
    "num_epochs = 500\n",
    "\n",
    "train_loss, train_acc, val_loss, val_acc = train_model(model, train_loader, val_loader, num_epochs, optimizer, criterion)\n",
    "plot_metrics(train_loss, train_acc, val_loss, val_acc, 'Neural Net')"
   ]
  },
  {
   "cell_type": "code",
   "execution_count": 504,
   "id": "4be1631c-0b61-44ef-996b-34bce131b2ae",
   "metadata": {},
   "outputs": [
    {
     "name": "stderr",
     "output_type": "stream",
     "text": [
      "Testing: 100%|██████████| 911/911 [00:01<00:00, 842.48batch/s]\n"
     ]
    },
    {
     "name": "stdout",
     "output_type": "stream",
     "text": [
      "\n",
      "\n",
      "Test Loss: 0.4540, Test Accuracy: 81.65%\n",
      "\n",
      "\n"
     ]
    },
    {
     "data": {
      "image/png": "[encoded data removed]",
      "text/plain": [
       "<Figure size 1000x800 with 2 Axes>"
      ]
     },
     "metadata": {},
     "output_type": "display_data"
    }
   ],
   "source": [
    "classes = [\"Male\", \"Female\"]\n",
    "nn_test_loss, nn_test_acc = evaluate_model(model, test_loader, criterion)"
   ]
  }
 ],
 "metadata": {
  "kernelspec": {
   "display_name": "everythingenv",
   "language": "python",
   "name": "everythingenv"
  },
  "language_info": {
   "codemirror_mode": {
    "name": "ipython",
    "version": 3
   },
   "file_extension": ".py",
   "mimetype": "text/x-python",
   "name": "python",
   "nbconvert_exporter": "python",
   "pygments_lexer": "ipython3",
   "version": "3.12.7"
  }
 },
 "nbformat": 4,
 "nbformat_minor": 5
}
